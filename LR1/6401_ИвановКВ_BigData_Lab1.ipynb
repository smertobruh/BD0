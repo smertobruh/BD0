{
  "nbformat": 4,
  "nbformat_minor": 0,
  "metadata": {
    "colab": {
      "provenance": []
    },
    "kernelspec": {
      "name": "python3",
      "display_name": "Python 3"
    },
    "language_info": {
      "name": "python"
    }
  },
  "cells": [
    {
      "cell_type": "code",
      "source": [
        "from pyspark.sql import SparkSession\n",
        "import pyspark.sql.functions as F\n",
        "import pyspark.sql.types as t\n",
        "from geopy.distance import geodesic\n",
        "from math import sqrt"
      ],
      "metadata": {
        "id": "cRSqRzmlHr7W"
      },
      "execution_count": 1,
      "outputs": []
    },
    {
      "cell_type": "code",
      "source": [
        "spark = SparkSession.builder.getOrCreate()\n",
        "spark"
      ],
      "metadata": {
        "colab": {
          "base_uri": "https://localhost:8080/",
          "height": 222
        },
        "id": "1Nlssft8Ig-5",
        "outputId": "5af7549b-f222-4a57-8db5-7b592dd3bab4"
      },
      "execution_count": 2,
      "outputs": [
        {
          "output_type": "execute_result",
          "data": {
            "text/plain": [
              "<pyspark.sql.session.SparkSession at 0x7adccb3d5dd0>"
            ],
            "text/html": [
              "\n",
              "            <div>\n",
              "                <p><b>SparkSession - in-memory</b></p>\n",
              "                \n",
              "        <div>\n",
              "            <p><b>SparkContext</b></p>\n",
              "\n",
              "            <p><a href=\"http://bbb86a237291:4040\">Spark UI</a></p>\n",
              "\n",
              "            <dl>\n",
              "              <dt>Version</dt>\n",
              "                <dd><code>v3.5.5</code></dd>\n",
              "              <dt>Master</dt>\n",
              "                <dd><code>local[*]</code></dd>\n",
              "              <dt>AppName</dt>\n",
              "                <dd><code>pyspark-shell</code></dd>\n",
              "            </dl>\n",
              "        </div>\n",
              "        \n",
              "            </div>\n",
              "        "
            ]
          },
          "metadata": {},
          "execution_count": 2
        }
      ]
    },
    {
      "cell_type": "markdown",
      "source": [
        "# 1. Найти велосипед с максимальным временем пробега."
      ],
      "metadata": {
        "id": "qcLjUBZcIM2i"
      }
    },
    {
      "cell_type": "code",
      "source": [
        "# Загружаем данные с поездками\n",
        "trips = spark.read.format(\"csv\").option(\"header\", \"true\").load(\"trips.csv\")"
      ],
      "metadata": {
        "id": "YE04bHAOIdBy"
      },
      "execution_count": 3,
      "outputs": []
    },
    {
      "cell_type": "code",
      "source": [
        "# Группируем по id велосипеда и агрегируем по продолжительности поездки\n",
        "max_duration_trip = trips.groupBy(trips.bike_id).agg(\n",
        "    F.max(trips.duration.cast(t.IntegerType())).alias(\"duration\")\n",
        "    ).orderBy(F.col(\"duration\").desc())\n",
        "max_duration_trip.show(1)"
      ],
      "metadata": {
        "colab": {
          "base_uri": "https://localhost:8080/"
        },
        "id": "yn_eSH7tJKlr",
        "outputId": "97ae51d5-6498-468f-e7c1-ac5659201edc"
      },
      "execution_count": 4,
      "outputs": [
        {
          "output_type": "stream",
          "name": "stdout",
          "text": [
            "+-------+--------+\n",
            "|bike_id|duration|\n",
            "+-------+--------+\n",
            "|    535|17270400|\n",
            "+-------+--------+\n",
            "only showing top 1 row\n",
            "\n"
          ]
        }
      ]
    },
    {
      "cell_type": "markdown",
      "source": [
        "# 2. Найти наибольшее геодезическое расстояние между станциями."
      ],
      "metadata": {
        "id": "E_VSrQEHWhbP"
      }
    },
    {
      "cell_type": "code",
      "source": [
        "# Загружаем данные со станциями\n",
        "stations = spark.read.format(\"csv\").option(\"header\", \"true\").load(\"stations.csv\")"
      ],
      "metadata": {
        "id": "MZYd52neWcqj"
      },
      "execution_count": 5,
      "outputs": []
    },
    {
      "cell_type": "code",
      "source": [
        "# Выбираем столбцы id, lat, long в проекции\n",
        "stations_data = stations.select(stations.id, stations.lat, stations.long)\n",
        "\n",
        "# Соединяем данные о станциям сами с собой по id\n",
        "stations_comb = stations_data.select(\n",
        "        stations_data.id.alias(\"id1\"),\n",
        "        stations_data.lat.alias(\"lat1\"),\n",
        "        stations_data.long.alias(\"long1\")\n",
        "    ).join(stations_data.select(\n",
        "        stations_data.id.alias(\"id2\"),\n",
        "        stations_data.lat.alias(\"lat2\"),\n",
        "        stations_data.long.alias(\"long2\")\n",
        "    )).where(F.col(\"id1\") != F.col(\"id2\"))\n",
        "\n",
        "def dist(lat1, long1, lat2, long2):\n",
        "  '''Подсчет расстояния между станциями'''\n",
        "  return ((lat2-lat1)**2 + (long2-long1)**2)**(1/2)\n",
        "\n",
        "# Вычисление расстояние между станциями проекцией\n",
        "max_dist = stations_comb.select(\n",
        "        stations_comb.id1,\n",
        "        stations_comb.id2,\n",
        "        dist(stations_comb.lat1, stations_comb.long1, stations_comb.lat2, stations_comb.long2).alias(\"dist\")\n",
        "    ).orderBy(F.col(\"dist\").desc())\n",
        "\n",
        "max_dist.show(1)"
      ],
      "metadata": {
        "colab": {
          "base_uri": "https://localhost:8080/"
        },
        "id": "YUkq-aW7Wr5Z",
        "outputId": "bf2d7c09-0bfd-445f-f4b0-27df8a7794be"
      },
      "execution_count": 6,
      "outputs": [
        {
          "output_type": "stream",
          "name": "stdout",
          "text": [
            "+---+---+------------------+\n",
            "|id1|id2|              dist|\n",
            "+---+---+------------------+\n",
            "| 16| 60|0.7058482821754397|\n",
            "+---+---+------------------+\n",
            "only showing top 1 row\n",
            "\n"
          ]
        }
      ]
    },
    {
      "cell_type": "markdown",
      "source": [
        "# 3. Найти путь велосипеда с максимальным временем пробега через станции."
      ],
      "metadata": {
        "id": "L4iok8-kcuWG"
      }
    },
    {
      "cell_type": "code",
      "source": [
        "# Поиск велосипеда с максимальной суммой путей и вывод его путей\n",
        "trip_path = trips.select(\n",
        "        trips.id,\n",
        "        trips.bike_id,\n",
        "        trips.start_station_id,\n",
        "        trips.end_station_id\n",
        "    ).where(\n",
        "        trips.bike_id == max_duration_trip.first().bike_id\n",
        "    ).orderBy(trips.id.cast(t.IntegerType()).asc())\n",
        "\n",
        "trip_path.show()"
      ],
      "metadata": {
        "colab": {
          "base_uri": "https://localhost:8080/"
        },
        "id": "Tk7g-5GfXEWP",
        "outputId": "eb6608bb-94bc-42c4-b066-db646c62c048"
      },
      "execution_count": 7,
      "outputs": [
        {
          "output_type": "stream",
          "name": "stdout",
          "text": [
            "+-----+-------+----------------+--------------+\n",
            "|   id|bike_id|start_station_id|end_station_id|\n",
            "+-----+-------+----------------+--------------+\n",
            "| 4966|    535|              47|            70|\n",
            "| 5067|    535|              70|            69|\n",
            "| 5179|    535|              69|            77|\n",
            "| 5199|    535|              77|            64|\n",
            "| 7806|    535|              61|            42|\n",
            "|11422|    535|              58|            72|\n",
            "|12245|    535|              72|            47|\n",
            "|12485|    535|              47|            60|\n",
            "|12558|    535|              60|            46|\n",
            "|13107|    535|              46|            77|\n",
            "|13423|    535|              77|            77|\n",
            "|14380|    535|              77|            62|\n",
            "|14581|    535|              62|            61|\n",
            "|15231|    535|              55|            61|\n",
            "|15242|    535|              61|            60|\n",
            "|15347|    535|              60|            41|\n",
            "|15605|    535|              41|            50|\n",
            "|15611|    535|              50|            41|\n",
            "|15770|    535|              41|            70|\n",
            "|16294|    535|              70|            74|\n",
            "+-----+-------+----------------+--------------+\n",
            "only showing top 20 rows\n",
            "\n"
          ]
        }
      ]
    },
    {
      "cell_type": "markdown",
      "source": [
        "# 4. Найти количество велосипедов в системе."
      ],
      "metadata": {
        "id": "IVKP9c45c-dg"
      }
    },
    {
      "cell_type": "code",
      "source": [
        "# Группировка по id велосипеда и агрегация по тому же id\n",
        "trips.groupBy(trips.bike_id).agg(trips.bike_id).count()"
      ],
      "metadata": {
        "colab": {
          "base_uri": "https://localhost:8080/"
        },
        "id": "gASQ8y1odB4O",
        "outputId": "e49873e9-43a7-4af4-9708-7a85efcf4518"
      },
      "execution_count": 8,
      "outputs": [
        {
          "output_type": "execute_result",
          "data": {
            "text/plain": [
              "700"
            ]
          },
          "metadata": {},
          "execution_count": 8
        }
      ]
    },
    {
      "cell_type": "markdown",
      "source": [
        "# 5. Найти пользователей потративших на поездки более 3 часов."
      ],
      "metadata": {
        "id": "_xZZL-JmfHel"
      }
    },
    {
      "cell_type": "code",
      "source": [
        "# Поиск пользователей с минимальным временем поездки 3 часа,\n",
        "# путем группировки по id пользоватеся и агрегацией по продолжительности поездки\n",
        "zip_trips = trips.select(\n",
        "        trips.zip_code,\n",
        "        trips.duration\n",
        "    ).groupBy(trips.zip_code).agg(\n",
        "        F.min(trips.duration.cast(t.IntegerType())).alias(\"duration\")\n",
        "    ).where(F.col(\"duration\") > 10800)\n",
        "\n",
        "zip_trips.show()"
      ],
      "metadata": {
        "colab": {
          "base_uri": "https://localhost:8080/"
        },
        "id": "6Unr5xtpe_y_",
        "outputId": "5ccdca5a-3f3b-4a7b-d12c-406bfda2f3a6"
      },
      "execution_count": 9,
      "outputs": [
        {
          "output_type": "stream",
          "name": "stdout",
          "text": [
            "+--------+--------+\n",
            "|zip_code|duration|\n",
            "+--------+--------+\n",
            "|    2136|   16010|\n",
            "|   11722|   12158|\n",
            "|   16303|   13053|\n",
            "|    4665|   16322|\n",
            "|   94079|   33057|\n",
            "|   45219|   16841|\n",
            "|    5052|   24097|\n",
            "|   33805|   26903|\n",
            "|   33706|   55535|\n",
            "|    7015|   12889|\n",
            "|   94068|   16250|\n",
            "|  902104|   23925|\n",
            "|    5732|   13550|\n",
            "|    6245|   27242|\n",
            "|   49168|   14129|\n",
            "|   41311|   17027|\n",
            "|   95454|   16359|\n",
            "|   32003|   14691|\n",
            "|   89084|   12237|\n",
            "|   59160|   22505|\n",
            "+--------+--------+\n",
            "only showing top 20 rows\n",
            "\n"
          ]
        }
      ]
    }
  ]
}