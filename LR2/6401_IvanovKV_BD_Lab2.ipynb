{
  "nbformat": 4,
  "nbformat_minor": 0,
  "metadata": {
    "colab": {
      "provenance": []
    },
    "kernelspec": {
      "name": "python3",
      "display_name": "Python 3"
    },
    "language_info": {
      "name": "python"
    }
  },
  "cells": [
    {
      "cell_type": "code",
      "execution_count": 2,
      "metadata": {
        "id": "FdlrECSXJFVR"
      },
      "outputs": [],
      "source": [
        "import os\n",
        "import sys\n",
        "from pyspark.sql import SparkSession\n",
        "import pyspark.sql.functions as F\n",
        "import pyspark.sql.types as t"
      ]
    },
    {
      "cell_type": "code",
      "source": [
        "os.environ['PYSPARK_PYTHON'] = sys.executable\n",
        "os.environ['PYSPARK_DRIVER_PYTHON'] = sys.executable\n",
        "os.environ['PYSPARK_SUBMIT_ARGS'] = '--packages com.databricks:spark-xml_2.12:0.17.0 pyspark-shell'"
      ],
      "metadata": {
        "id": "giGwLaBUPfpm"
      },
      "execution_count": 3,
      "outputs": []
    },
    {
      "cell_type": "code",
      "source": [
        "spark = SparkSession.builder.getOrCreate()\n",
        "spark"
      ],
      "metadata": {
        "colab": {
          "base_uri": "https://localhost:8080/",
          "height": 222
        },
        "id": "dEopShxmKrHs",
        "outputId": "289768f3-3624-4b20-ba44-1f08322ad325"
      },
      "execution_count": 4,
      "outputs": [
        {
          "output_type": "execute_result",
          "data": {
            "text/plain": [
              "<pyspark.sql.session.SparkSession at 0x7c1a5e8a4610>"
            ],
            "text/html": [
              "\n",
              "            <div>\n",
              "                <p><b>SparkSession - in-memory</b></p>\n",
              "                \n",
              "        <div>\n",
              "            <p><b>SparkContext</b></p>\n",
              "\n",
              "            <p><a href=\"http://44eb3877df68:4040\">Spark UI</a></p>\n",
              "\n",
              "            <dl>\n",
              "              <dt>Version</dt>\n",
              "                <dd><code>v3.5.5</code></dd>\n",
              "              <dt>Master</dt>\n",
              "                <dd><code>local[*]</code></dd>\n",
              "              <dt>AppName</dt>\n",
              "                <dd><code>pyspark-shell</code></dd>\n",
              "            </dl>\n",
              "        </div>\n",
              "        \n",
              "            </div>\n",
              "        "
            ]
          },
          "metadata": {},
          "execution_count": 4
        }
      ]
    },
    {
      "cell_type": "code",
      "source": [
        "# Загружаем все посты\n",
        "all_posts = spark.read.format(\"com.databricks.spark.xml\").option(\"rowTag\", \"row\").option(\"timestampFormat\", \"y/M/d H:m:s\").load(\"posts_sample.xml\")"
      ],
      "metadata": {
        "id": "LPAyQ7uNLY9b"
      },
      "execution_count": 5,
      "outputs": []
    },
    {
      "cell_type": "code",
      "source": [
        "print(\"Схема--------------------------------------------------------------------\")\n",
        "all_posts.printSchema()\n",
        "print(\"Количество элементов-----------------------------------------------------\")\n",
        "print(all_posts.count())\n",
        "print(\"Первый элемент-----------------------------------------------------------\")\n",
        "all_posts.show(1)"
      ],
      "metadata": {
        "colab": {
          "base_uri": "https://localhost:8080/"
        },
        "id": "jQePUMNdQS7w",
        "outputId": "96ff7d6d-5e20-415b-b5dd-272a3e276773"
      },
      "execution_count": 6,
      "outputs": [
        {
          "output_type": "stream",
          "name": "stdout",
          "text": [
            "Схема--------------------------------------------------------------------\n",
            "root\n",
            " |-- _AcceptedAnswerId: long (nullable = true)\n",
            " |-- _AnswerCount: long (nullable = true)\n",
            " |-- _Body: string (nullable = true)\n",
            " |-- _ClosedDate: timestamp (nullable = true)\n",
            " |-- _CommentCount: long (nullable = true)\n",
            " |-- _CommunityOwnedDate: timestamp (nullable = true)\n",
            " |-- _CreationDate: timestamp (nullable = true)\n",
            " |-- _FavoriteCount: long (nullable = true)\n",
            " |-- _Id: long (nullable = true)\n",
            " |-- _LastActivityDate: timestamp (nullable = true)\n",
            " |-- _LastEditDate: timestamp (nullable = true)\n",
            " |-- _LastEditorDisplayName: string (nullable = true)\n",
            " |-- _LastEditorUserId: long (nullable = true)\n",
            " |-- _OwnerDisplayName: string (nullable = true)\n",
            " |-- _OwnerUserId: long (nullable = true)\n",
            " |-- _ParentId: long (nullable = true)\n",
            " |-- _PostTypeId: long (nullable = true)\n",
            " |-- _Score: long (nullable = true)\n",
            " |-- _Tags: string (nullable = true)\n",
            " |-- _Title: string (nullable = true)\n",
            " |-- _ViewCount: long (nullable = true)\n",
            "\n",
            "Количество элементов-----------------------------------------------------\n",
            "46006\n",
            "Первый элемент-----------------------------------------------------------\n",
            "+-----------------+------------+--------------------+-----------+-------------+--------------------+--------------------+--------------+---+--------------------+--------------------+----------------------+-----------------+-----------------+------------+---------+-----------+------+--------------------+--------------------+----------+\n",
            "|_AcceptedAnswerId|_AnswerCount|               _Body|_ClosedDate|_CommentCount| _CommunityOwnedDate|       _CreationDate|_FavoriteCount|_Id|   _LastActivityDate|       _LastEditDate|_LastEditorDisplayName|_LastEditorUserId|_OwnerDisplayName|_OwnerUserId|_ParentId|_PostTypeId|_Score|               _Tags|              _Title|_ViewCount|\n",
            "+-----------------+------------+--------------------+-----------+-------------+--------------------+--------------------+--------------+---+--------------------+--------------------+----------------------+-----------------+-----------------+------------+---------+-----------+------+--------------------+--------------------+----------+\n",
            "|                7|          13|<p>I want to use ...|       NULL|            2|2012-10-31 16:42:...|2008-07-31 21:42:...|            48|  4|2019-07-19 01:39:...|2019-07-19 01:39:...|                Rich B|          3641067|             NULL|           8|     NULL|          1|   630|<c#><floating-poi...|Convert Decimal t...|     42817|\n",
            "+-----------------+------------+--------------------+-----------+-------------+--------------------+--------------------+--------------+---+--------------------+--------------------+----------------------+-----------------+-----------------+------------+---------+-----------+------+--------------------+--------------------+----------+\n",
            "only showing top 1 row\n",
            "\n"
          ]
        }
      ]
    },
    {
      "cell_type": "code",
      "source": [
        "# Оставляем посты созданные в нужный промежуток времени\n",
        "dates = (\"2010-01-01\", \"2020-12-31\")\n",
        "posts = all_posts.where(all_posts._CreationDate.between(*dates))"
      ],
      "metadata": {
        "id": "LJ6nA8sXQxZA"
      },
      "execution_count": 7,
      "outputs": []
    },
    {
      "cell_type": "code",
      "source": [
        "print(\"Количество элементов-----------------------------------------------------\")\n",
        "print(posts.count())"
      ],
      "metadata": {
        "colab": {
          "base_uri": "https://localhost:8080/"
        },
        "id": "IeBiwWSVKIz2",
        "outputId": "96c44ab5-9684-4c8f-c1d0-c077abcaf5b1"
      },
      "execution_count": 8,
      "outputs": [
        {
          "output_type": "stream",
          "name": "stdout",
          "text": [
            "Количество элементов-----------------------------------------------------\n",
            "44419\n"
          ]
        }
      ]
    },
    {
      "cell_type": "code",
      "source": [
        "# Загружаем языки\n",
        "langs = spark.read.format(\"csv\").option(\"header\", \"true\").load(\"programming-languages.csv\")"
      ],
      "metadata": {
        "id": "ONMIFXVdR6gz"
      },
      "execution_count": 9,
      "outputs": []
    },
    {
      "cell_type": "code",
      "source": [
        "print(\"Схема--------------------------------------------------------------------\")\n",
        "langs.printSchema()\n",
        "print(\"Количество элементов-----------------------------------------------------\")\n",
        "langs.count()"
      ],
      "metadata": {
        "colab": {
          "base_uri": "https://localhost:8080/"
        },
        "id": "SC4l8W5SSg9D",
        "outputId": "ece7599f-fae6-470b-c2a4-06d93d765eee"
      },
      "execution_count": 10,
      "outputs": [
        {
          "output_type": "stream",
          "name": "stdout",
          "text": [
            "Схема--------------------------------------------------------------------\n",
            "root\n",
            " |-- name: string (nullable = true)\n",
            " |-- wikipedia_url: string (nullable = true)\n",
            "\n",
            "Количество элементов-----------------------------------------------------\n"
          ]
        },
        {
          "output_type": "execute_result",
          "data": {
            "text/plain": [
              "700"
            ]
          },
          "metadata": {},
          "execution_count": 10
        }
      ]
    },
    {
      "cell_type": "code",
      "source": [
        "# Определяем функцию конвертации названия в тег\n",
        "spark.udf.register(\"to_tag\", lambda s: f\"<{s}>\", t.StringType())"
      ],
      "metadata": {
        "colab": {
          "base_uri": "https://localhost:8080/"
        },
        "id": "TCM1dYGfIeUW",
        "outputId": "15785525-1182-4b8e-d02b-85577bef33a4"
      },
      "execution_count": 11,
      "outputs": [
        {
          "output_type": "execute_result",
          "data": {
            "text/plain": [
              "<function __main__.<lambda>(s)>"
            ]
          },
          "metadata": {},
          "execution_count": 11
        }
      ]
    },
    {
      "cell_type": "code",
      "source": [
        "# Вычисляем число упоминаний языков в разные года\n",
        "lang_posts = posts.select(\n",
        "    F.year(posts._CreationDate).alias(\"year\"),\n",
        "    posts._Tags.alias(\"tags\")\n",
        ").join(\n",
        "    langs.select(langs.name.alias(\"lang\"))\n",
        ").where(\n",
        "    F.col(\"tags\").contains(F.call_function(\"to_tag\", F.lower(F.col(\"lang\"))))\n",
        ").groupBy(\n",
        "    F.col(\"year\"), F.col(\"lang\")\n",
        ").agg(\n",
        "    F.count(F.col(\"lang\")).alias(\"ref_count\")\n",
        ").orderBy(F.col(\"year\"), F.col(\"ref_count\").desc())"
      ],
      "metadata": {
        "id": "OTVRJGyJSsuH"
      },
      "execution_count": 12,
      "outputs": []
    },
    {
      "cell_type": "code",
      "source": [
        "# Создаем отчет из 10 наиболее популярных языков в определенный год\n",
        "report = lang_posts.limit(10)\n",
        "for year in range(2011, 2021):\n",
        "  report = report.union(lang_posts.where(lang_posts.year == year).limit(10))\n",
        "\n",
        "report.show(100)"
      ],
      "metadata": {
        "colab": {
          "base_uri": "https://localhost:8080/"
        },
        "id": "vDFu8_7qLTxk",
        "outputId": "dbe868ef-4946-4603-cff1-436bcffea765"
      },
      "execution_count": 13,
      "outputs": [
        {
          "output_type": "stream",
          "name": "stdout",
          "text": [
            "+----+-----------+---------+\n",
            "|year|       lang|ref_count|\n",
            "+----+-----------+---------+\n",
            "|2010|       Java|       52|\n",
            "|2010|        PHP|       46|\n",
            "|2010| JavaScript|       44|\n",
            "|2010|     Python|       26|\n",
            "|2010|Objective-C|       23|\n",
            "|2010|          C|       20|\n",
            "|2010|       Ruby|       12|\n",
            "|2010|     Delphi|        8|\n",
            "|2010|          R|        3|\n",
            "|2010|AppleScript|        3|\n",
            "|2011|        PHP|      102|\n",
            "|2011|       Java|       93|\n",
            "|2011| JavaScript|       83|\n",
            "|2011|     Python|       37|\n",
            "|2011|Objective-C|       34|\n",
            "|2011|          C|       24|\n",
            "|2011|       Ruby|       20|\n",
            "|2011|       Perl|        9|\n",
            "|2011|     Delphi|        8|\n",
            "|2011|       Bash|        7|\n",
            "|2012|        PHP|      154|\n",
            "|2012| JavaScript|      132|\n",
            "|2012|       Java|      124|\n",
            "|2012|     Python|       69|\n",
            "|2012|Objective-C|       45|\n",
            "|2012|          C|       27|\n",
            "|2012|       Ruby|       27|\n",
            "|2012|       Bash|       10|\n",
            "|2012|          R|        9|\n",
            "|2012|     MATLAB|        6|\n",
            "|2013|        PHP|      198|\n",
            "|2013| JavaScript|      198|\n",
            "|2013|       Java|      194|\n",
            "|2013|     Python|       90|\n",
            "|2013|Objective-C|       40|\n",
            "|2013|          C|       36|\n",
            "|2013|       Ruby|       32|\n",
            "|2013|          R|       26|\n",
            "|2013|       Bash|       12|\n",
            "|2013|      Scala|       11|\n",
            "|2014| JavaScript|      239|\n",
            "|2014|       Java|      228|\n",
            "|2014|        PHP|      167|\n",
            "|2014|     Python|      109|\n",
            "|2014|          C|       52|\n",
            "|2014|Objective-C|       52|\n",
            "|2014|          R|       28|\n",
            "|2014|       Ruby|       24|\n",
            "|2014|     MATLAB|       17|\n",
            "|2014|       Bash|       17|\n",
            "|2015| JavaScript|      277|\n",
            "|2015|       Java|      209|\n",
            "|2015|        PHP|      167|\n",
            "|2015|     Python|      121|\n",
            "|2015|          R|       43|\n",
            "|2015|          C|       38|\n",
            "|2015|Objective-C|       30|\n",
            "|2015|       Ruby|       21|\n",
            "|2015|     MATLAB|       16|\n",
            "|2015|      Scala|       15|\n",
            "|2016| JavaScript|      278|\n",
            "|2016|       Java|      184|\n",
            "|2016|        PHP|      155|\n",
            "|2016|     Python|      146|\n",
            "|2016|          R|       52|\n",
            "|2016|          C|       32|\n",
            "|2016|       Ruby|       24|\n",
            "|2016|       Bash|       18|\n",
            "|2016|      Scala|       16|\n",
            "|2016|     MATLAB|       15|\n",
            "|2017| JavaScript|      246|\n",
            "|2017|       Java|      204|\n",
            "|2017|     Python|      193|\n",
            "|2017|        PHP|      138|\n",
            "|2017|          R|       56|\n",
            "|2017|          C|       25|\n",
            "|2017| TypeScript|       20|\n",
            "|2017|Objective-C|       19|\n",
            "|2017|       Ruby|       17|\n",
            "|2017|       Bash|       14|\n",
            "|2018|     Python|      220|\n",
            "|2018| JavaScript|      198|\n",
            "|2018|       Java|      146|\n",
            "|2018|        PHP|      111|\n",
            "|2018|          R|       66|\n",
            "|2018| TypeScript|       27|\n",
            "|2018|          C|       24|\n",
            "|2018|      Scala|       23|\n",
            "|2018| PowerShell|       13|\n",
            "|2018|       Bash|       12|\n",
            "|2019|     Python|      166|\n",
            "|2019| JavaScript|      135|\n",
            "|2019|       Java|       95|\n",
            "|2019|        PHP|       65|\n",
            "|2019|          R|       37|\n",
            "|2019| TypeScript|       17|\n",
            "|2019|          C|       14|\n",
            "|2019|       Bash|       11|\n",
            "|2019|         Go|        9|\n",
            "|2019|     MATLAB|        9|\n",
            "+----+-----------+---------+\n",
            "\n"
          ]
        }
      ]
    },
    {
      "cell_type": "code",
      "source": [
        "# Сохраняем отчет\n",
        "report.write.parquet(\"report.parquet\")"
      ],
      "metadata": {
        "id": "wlZhC3VHQA3N"
      },
      "execution_count": 14,
      "outputs": []
    }
  ]
}