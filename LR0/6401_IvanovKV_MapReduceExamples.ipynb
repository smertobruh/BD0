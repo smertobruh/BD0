{
  "cells": [
    {
      "cell_type": "markdown",
      "metadata": {
        "id": "82OvPKEiEqjc"
      },
      "source": [
        "# Введение в MapReduce модель на Python\n"
      ]
    },
    {
      "cell_type": "code",
      "execution_count": 338,
      "metadata": {
        "id": "JQ2cvXLjICmI"
      },
      "outputs": [],
      "source": [
        "from typing import NamedTuple # requires python 3.6+\n",
        "from typing import Iterator"
      ]
    },
    {
      "cell_type": "code",
      "execution_count": 339,
      "metadata": {
        "id": "yjPHumVwEyEg"
      },
      "outputs": [],
      "source": [
        "def MAP(_, row:NamedTuple):\n",
        "  if (row.gender == 'female'):\n",
        "    yield (row.age, row)\n",
        "\n",
        "def REDUCE(age:str, rows:Iterator[NamedTuple]):\n",
        "  sum = 0\n",
        "  count = 0\n",
        "  for row in rows:\n",
        "    sum += row.social_contacts\n",
        "    count += 1\n",
        "  if (count > 0):\n",
        "    yield (age, sum/count)\n",
        "  else:\n",
        "    yield (age, 0)"
      ]
    },
    {
      "cell_type": "markdown",
      "metadata": {
        "id": "vBKMgpG_ilaZ"
      },
      "source": [
        "Модель элемента данных"
      ]
    },
    {
      "cell_type": "code",
      "execution_count": 340,
      "metadata": {
        "id": "Rv-XIjhTJPx3"
      },
      "outputs": [],
      "source": [
        "class User(NamedTuple):\n",
        "  id: int\n",
        "  age: str\n",
        "  social_contacts: int\n",
        "  gender: str"
      ]
    },
    {
      "cell_type": "code",
      "execution_count": 341,
      "metadata": {
        "id": "5KV0Ze2vQgu5"
      },
      "outputs": [],
      "source": [
        "input_collection = [\n",
        "    User(id=0, age=55, gender='male', social_contacts=20),\n",
        "    User(id=1, age=25, gender='female', social_contacts=240),\n",
        "    User(id=2, age=25, gender='female', social_contacts=500),\n",
        "    User(id=3, age=33, gender='female', social_contacts=800)\n",
        "]"
      ]
    },
    {
      "cell_type": "markdown",
      "metadata": {
        "id": "YFeqzyZxZIFZ"
      },
      "source": [
        "Функция RECORDREADER моделирует чтение элементов с диска или по сети."
      ]
    },
    {
      "cell_type": "code",
      "execution_count": 342,
      "metadata": {
        "id": "S5HR4E_GQoMJ"
      },
      "outputs": [],
      "source": [
        "def RECORDREADER():\n",
        "  return [(u.id, u) for u in input_collection]"
      ]
    },
    {
      "cell_type": "code",
      "execution_count": 343,
      "metadata": {
        "colab": {
          "base_uri": "https://localhost:8080/"
        },
        "id": "NeEoWla-ROUy",
        "outputId": "e8aa2053-a402-4d66-d543-fa75aa86ffb5"
      },
      "outputs": [
        {
          "data": {
            "text/plain": [
              "[(0, User(id=0, age=55, social_contacts=20, gender='male')),\n",
              " (1, User(id=1, age=25, social_contacts=240, gender='female')),\n",
              " (2, User(id=2, age=25, social_contacts=500, gender='female')),\n",
              " (3, User(id=3, age=33, social_contacts=800, gender='female'))]"
            ]
          },
          "execution_count": 343,
          "metadata": {},
          "output_type": "execute_result"
        }
      ],
      "source": [
        "list(RECORDREADER())"
      ]
    },
    {
      "cell_type": "code",
      "execution_count": 344,
      "metadata": {
        "id": "YB8orgPSZs8M"
      },
      "outputs": [],
      "source": [
        "def flatten(nested_iterable):\n",
        "  for iterable in nested_iterable:\n",
        "    for element in iterable:\n",
        "      yield element"
      ]
    },
    {
      "cell_type": "code",
      "execution_count": 345,
      "metadata": {
        "colab": {
          "base_uri": "https://localhost:8080/"
        },
        "id": "74oyvDLaRmd5",
        "outputId": "b17f5c92-752a-4919-db55-703d1c2ed16b"
      },
      "outputs": [
        {
          "data": {
            "text/plain": [
              "[(25, User(id=1, age=25, social_contacts=240, gender='female')),\n",
              " (25, User(id=2, age=25, social_contacts=500, gender='female')),\n",
              " (33, User(id=3, age=33, social_contacts=800, gender='female'))]"
            ]
          },
          "execution_count": 345,
          "metadata": {},
          "output_type": "execute_result"
        }
      ],
      "source": [
        "map_output = flatten(map(lambda x: MAP(*x), RECORDREADER()))\n",
        "map_output = list(map_output) # materialize\n",
        "map_output"
      ]
    },
    {
      "cell_type": "code",
      "execution_count": 346,
      "metadata": {
        "id": "8ncYDJ3-VzDn"
      },
      "outputs": [],
      "source": [
        "def groupbykey(iterable):\n",
        "  t = {}\n",
        "  for (k2, v2) in iterable:\n",
        "    t[k2] = t.get(k2, []) + [v2]\n",
        "  return t.items()"
      ]
    },
    {
      "cell_type": "code",
      "execution_count": 347,
      "metadata": {
        "colab": {
          "base_uri": "https://localhost:8080/"
        },
        "id": "cKzY_6COWOA2",
        "outputId": "09638d7a-ff03-4a17-a4ba-8ff75d59cf44"
      },
      "outputs": [
        {
          "data": {
            "text/plain": [
              "[(25,\n",
              "  [User(id=1, age=25, social_contacts=240, gender='female'),\n",
              "   User(id=2, age=25, social_contacts=500, gender='female')]),\n",
              " (33, [User(id=3, age=33, social_contacts=800, gender='female')])]"
            ]
          },
          "execution_count": 347,
          "metadata": {},
          "output_type": "execute_result"
        }
      ],
      "source": [
        "shuffle_output = groupbykey(map_output)\n",
        "shuffle_output = list(shuffle_output)\n",
        "shuffle_output"
      ]
    },
    {
      "cell_type": "code",
      "execution_count": 348,
      "metadata": {
        "colab": {
          "base_uri": "https://localhost:8080/"
        },
        "id": "NlA7lkDDYL0t",
        "outputId": "7fe4c8f1-f773-4a0e-ac90-36cac0a23919"
      },
      "outputs": [
        {
          "data": {
            "text/plain": [
              "[(25, 370.0), (33, 800.0)]"
            ]
          },
          "execution_count": 348,
          "metadata": {},
          "output_type": "execute_result"
        }
      ],
      "source": [
        "reduce_output = flatten(map(lambda x: REDUCE(*x), shuffle_output))\n",
        "reduce_output = list(reduce_output)\n",
        "reduce_output"
      ]
    },
    {
      "cell_type": "markdown",
      "metadata": {
        "id": "xf6qhHEtd6bI"
      },
      "source": [
        "Все действия одним конвейером!"
      ]
    },
    {
      "cell_type": "code",
      "execution_count": 349,
      "metadata": {
        "colab": {
          "base_uri": "https://localhost:8080/"
        },
        "id": "dZaQGYxCdpw5",
        "outputId": "2e316323-592b-44d6-9473-1c8d27a96fd5"
      },
      "outputs": [
        {
          "data": {
            "text/plain": [
              "[(25, 370.0), (33, 800.0)]"
            ]
          },
          "execution_count": 349,
          "metadata": {},
          "output_type": "execute_result"
        }
      ],
      "source": [
        "list(flatten(map(lambda x: REDUCE(*x), groupbykey(flatten(map(lambda x: MAP(*x), RECORDREADER()))))))"
      ]
    },
    {
      "cell_type": "markdown",
      "metadata": {
        "id": "Vq3EWRIpwSiJ"
      },
      "source": [
        "# **MapReduce**\n",
        "Выделим общую для всех пользователей часть системы в отдельную функцию высшего порядка. Это наиболее простая модель MapReduce, без учёта распределённого хранения данных.\n",
        "\n",
        "Пользователь для решения своей задачи реализует RECORDREADER, MAP, REDUCE."
      ]
    },
    {
      "cell_type": "code",
      "execution_count": 350,
      "metadata": {
        "id": "V1PZeQMwwVjc"
      },
      "outputs": [],
      "source": [
        "def flatten(nested_iterable):\n",
        "  for iterable in nested_iterable:\n",
        "    for element in iterable:\n",
        "      yield element\n",
        "\n",
        "def groupbykey(iterable):\n",
        "  t = {}\n",
        "  for (k2, v2) in iterable:\n",
        "    t[k2] = t.get(k2, []) + [v2]\n",
        "  return t.items()\n",
        "\n",
        "def MapReduce(RECORDREADER, MAP, REDUCE):\n",
        "  return flatten(map(lambda x: REDUCE(*x), groupbykey(flatten(map(lambda x: MAP(*x), RECORDREADER())))))"
      ]
    },
    {
      "cell_type": "markdown",
      "metadata": {
        "id": "iFIVrimep678"
      },
      "source": [
        "## Спецификация MapReduce\n",
        "\n",
        "\n",
        "\n",
        "```\n",
        "f (k1, v1) -> (k2,v2)*\n",
        "g (k2, v2*) -> (k3,v3)*\n",
        "\n",
        "mapreduce ((k1,v1)*) -> (k3,v3)*\n",
        "groupby ((k2,v2)*) -> (k2,v2*)*\n",
        "flatten (e2**) -> e2*\n",
        "\n",
        "mapreduce .map(f).flatten.groupby(k2).map(g).flatten\n",
        "```\n",
        "\n",
        "\n"
      ]
    },
    {
      "cell_type": "markdown",
      "metadata": {
        "id": "QtTFyqke3KGe"
      },
      "source": [
        "# Примеры"
      ]
    },
    {
      "cell_type": "markdown",
      "metadata": {
        "id": "BNhh5763w5Vn"
      },
      "source": [
        "## SQL"
      ]
    },
    {
      "cell_type": "code",
      "execution_count": 351,
      "metadata": {
        "colab": {
          "base_uri": "https://localhost:8080/"
        },
        "id": "QkyurnvGxBGk",
        "outputId": "76c0f8a3-eda9-4e88-f0b3-76f69661bd49"
      },
      "outputs": [
        {
          "data": {
            "text/plain": [
              "[(25, 370.0), (33, 800.0)]"
            ]
          },
          "execution_count": 351,
          "metadata": {},
          "output_type": "execute_result"
        }
      ],
      "source": [
        "from typing import NamedTuple # requires python 3.6+\n",
        "from typing import Iterator\n",
        "\n",
        "class User(NamedTuple):\n",
        "  id: int\n",
        "  age: str\n",
        "  social_contacts: int\n",
        "  gender: str\n",
        "\n",
        "input_collection = [\n",
        "    User(id=0, age=55, gender='male', social_contacts=20),\n",
        "    User(id=1, age=25, gender='female', social_contacts=240),\n",
        "    User(id=2, age=25, gender='female', social_contacts=500),\n",
        "    User(id=3, age=33, gender='female', social_contacts=800)\n",
        "]\n",
        "\n",
        "def MAP(_, row:NamedTuple):\n",
        "  if (row.gender == 'female'):\n",
        "    yield (row.age, row)\n",
        "\n",
        "def REDUCE(age:str, rows:Iterator[NamedTuple]):\n",
        "  sum = 0\n",
        "  count = 0\n",
        "  for row in rows:\n",
        "    sum += row.social_contacts\n",
        "    count += 1\n",
        "  if (count > 0):\n",
        "    yield (age, sum/count)\n",
        "  else:\n",
        "    yield (age, 0)\n",
        "\n",
        "def RECORDREADER():\n",
        "  return [(u.id, u) for u in input_collection]\n",
        "\n",
        "output = MapReduce(RECORDREADER, MAP, REDUCE)\n",
        "output = list(output)\n",
        "output"
      ]
    },
    {
      "cell_type": "markdown",
      "metadata": {
        "id": "kNKYIeerx0nY"
      },
      "source": [
        "## Matrix-Vector multiplication"
      ]
    },
    {
      "cell_type": "code",
      "execution_count": 352,
      "metadata": {
        "colab": {
          "base_uri": "https://localhost:8080/"
        },
        "id": "rwcntRcCyi1V",
        "outputId": "44503401-3d3c-4c52-9a44-1a9bc104761c"
      },
      "outputs": [
        {
          "data": {
            "text/plain": [
              "[(0, 1.778932344410586),\n",
              " (1, 1.778932344410586),\n",
              " (2, 1.778932344410586),\n",
              " (3, 1.778932344410586),\n",
              " (4, 1.778932344410586)]"
            ]
          },
          "execution_count": 352,
          "metadata": {},
          "output_type": "execute_result"
        }
      ],
      "source": [
        "from typing import Iterator\n",
        "import numpy as np\n",
        "\n",
        "mat = np.ones((5,4))\n",
        "vec = np.random.rand(4) # in-memory vector in all map tasks\n",
        "\n",
        "def MAP(coordinates:tuple[int, int], value:int):\n",
        "  i, j = coordinates\n",
        "  yield (i, value*vec[j])\n",
        "\n",
        "def REDUCE(i:int, products:Iterator[NamedTuple]):\n",
        "  sum = 0\n",
        "  for p in products:\n",
        "    sum += p\n",
        "  yield (i, sum)\n",
        "\n",
        "def RECORDREADER():\n",
        "  for i in range(mat.shape[0]):\n",
        "    for j in range(mat.shape[1]):\n",
        "      yield ((i, j), mat[i,j])\n",
        "\n",
        "output = MapReduce(RECORDREADER, MAP, REDUCE)\n",
        "output = list(output)\n",
        "output"
      ]
    },
    {
      "cell_type": "markdown",
      "metadata": {
        "id": "ruZREYdi2o4O"
      },
      "source": [
        "## Inverted index"
      ]
    },
    {
      "cell_type": "code",
      "execution_count": 353,
      "metadata": {
        "colab": {
          "base_uri": "https://localhost:8080/"
        },
        "id": "vt9H9Alf3TYv",
        "outputId": "11ca3488-607f-4d8b-b645-33213f17493d"
      },
      "outputs": [
        {
          "data": {
            "text/plain": [
              "[('is', ['0', '1', '2']),\n",
              " ('what', ['0', '1']),\n",
              " ('it', ['0', '1', '2']),\n",
              " ('banana', ['2']),\n",
              " ('a', ['2'])]"
            ]
          },
          "execution_count": 353,
          "metadata": {},
          "output_type": "execute_result"
        }
      ],
      "source": [
        "from typing import Iterator\n",
        "\n",
        "d1 = \"it is what it is\"\n",
        "d2 = \"what is it\"\n",
        "d3 = \"it is a banana\"\n",
        "documents = [d1, d2, d3]\n",
        "\n",
        "def RECORDREADER():\n",
        "  for (docid, document) in enumerate(documents):\n",
        "    yield (\"{}\".format(docid), document)\n",
        "\n",
        "def MAP(docId:str, body:str):\n",
        "  for word in set(body.split(' ')):\n",
        "    yield (word, docId)\n",
        "\n",
        "def REDUCE(word:str, docIds:Iterator[str]):\n",
        "  yield (word, sorted(docIds))\n",
        "\n",
        "output = MapReduce(RECORDREADER, MAP, REDUCE)\n",
        "output = list(output)\n",
        "output"
      ]
    },
    {
      "cell_type": "markdown",
      "metadata": {
        "id": "R7az-6DA6qr2"
      },
      "source": [
        "## WordCount"
      ]
    },
    {
      "cell_type": "code",
      "execution_count": 354,
      "metadata": {
        "colab": {
          "base_uri": "https://localhost:8080/"
        },
        "id": "dN-nbtgG6uYG",
        "outputId": "cc89017d-11f0-46aa-d5ca-453e7954947f"
      },
      "outputs": [
        {
          "data": {
            "text/plain": [
              "[('', 3), ('it', 9), ('is', 9), ('what', 5), ('a', 1), ('banana', 1)]"
            ]
          },
          "execution_count": 354,
          "metadata": {},
          "output_type": "execute_result"
        }
      ],
      "source": [
        "from typing import Iterator\n",
        "\n",
        "d1 = \"\"\"\n",
        "it is what it is\n",
        "it is what it is\n",
        "it is what it is\"\"\"\n",
        "d2 = \"\"\"\n",
        "what is it\n",
        "what is it\"\"\"\n",
        "d3 = \"\"\"\n",
        "it is a banana\"\"\"\n",
        "documents = [d1, d2, d3]\n",
        "\n",
        "def RECORDREADER():\n",
        "  for (docid, document) in enumerate(documents):\n",
        "    for (lineid, line) in enumerate(document.split('\\n')):\n",
        "      yield (\"{}:{}\".format(docid,lineid), line)\n",
        "\n",
        "def MAP(docId:str, line:str):\n",
        "  for word in line.split(\" \"):\n",
        "    yield (word, 1)\n",
        "\n",
        "def REDUCE(word:str, counts:Iterator[int]):\n",
        "  sum = 0\n",
        "  for c in counts:\n",
        "    sum += c\n",
        "  yield (word, sum)\n",
        "\n",
        "output = MapReduce(RECORDREADER, MAP, REDUCE)\n",
        "output = list(output)\n",
        "output"
      ]
    },
    {
      "cell_type": "markdown",
      "metadata": {
        "id": "h-jRAcYCAkkk"
      },
      "source": [
        "# MapReduce Distributed\n",
        "\n",
        "Добавляется в модель фабрика RECORDREARER-ов --- INPUTFORMAT, функция распределения промежуточных результатов по партициям PARTITIONER, и функция COMBINER для частичной аггрегации промежуточных результатов до распределения по новым партициям."
      ]
    },
    {
      "cell_type": "code",
      "execution_count": 355,
      "metadata": {
        "id": "nw-b-xJsApgW"
      },
      "outputs": [],
      "source": [
        "def flatten(nested_iterable):\n",
        "  for iterable in nested_iterable:\n",
        "    for element in iterable:\n",
        "      yield element\n",
        "\n",
        "def groupbykey(iterable):\n",
        "  t = {}\n",
        "  for (k2, v2) in iterable:\n",
        "    t[k2] = t.get(k2, []) + [v2]\n",
        "  return t.items()\n",
        "\n",
        "def groupbykey_distributed(map_partitions, PARTITIONER):\n",
        "  global reducers\n",
        "  partitions = [dict() for _ in range(reducers)]\n",
        "  for map_partition in map_partitions:\n",
        "    for (k2, v2) in map_partition:\n",
        "      p = partitions[PARTITIONER(k2)]\n",
        "      p[k2] = p.get(k2, []) + [v2]\n",
        "  return [(partition_id, sorted(partition.items(), key=lambda x: x[0])) for (partition_id, partition) in enumerate(partitions)]\n",
        "\n",
        "def PARTITIONER(obj):\n",
        "  global reducers\n",
        "  return hash(obj) % reducers\n",
        "\n",
        "def MapReduceDistributed(INPUTFORMAT, MAP, REDUCE, PARTITIONER=PARTITIONER, COMBINER=None):\n",
        "  map_partitions = map(lambda record_reader: flatten(map(lambda k1v1: MAP(*k1v1), record_reader)), INPUTFORMAT())\n",
        "  if COMBINER != None:\n",
        "    map_partitions = map(lambda map_partition: flatten(map(lambda k2v2: COMBINER(*k2v2), groupbykey(map_partition))), map_partitions)\n",
        "  reduce_partitions = groupbykey_distributed(map_partitions, PARTITIONER) # shuffle\n",
        "  reduce_outputs = map(lambda reduce_partition: (reduce_partition[0], flatten(map(lambda reduce_input_group: REDUCE(*reduce_input_group), reduce_partition[1]))), reduce_partitions)\n",
        "\n",
        "  print(\"{} key-value pairs were sent over a network.\".format(sum([len(vs) for (k,vs) in flatten([partition for (partition_id, partition) in reduce_partitions])])))\n",
        "  return reduce_outputs"
      ]
    },
    {
      "cell_type": "markdown",
      "metadata": {
        "id": "kxirlf3XqZxY"
      },
      "source": [
        "## Спецификация MapReduce Distributed\n",
        "\n",
        "\n",
        "```\n",
        "f (k1, v1) -> (k2,v2)*\n",
        "g (k2, v2*) -> (k3,v3)*\n",
        "\n",
        "e1 (k1, v1)\n",
        "e2 (k2, v2)\n",
        "partition1 (k2, v2)*\n",
        "partition2 (k2, v2*)*\n",
        "\n",
        "flatmap (e1->e2*, e1*) -> partition1*\n",
        "groupby (partition1*) -> partition2*\n",
        "\n",
        "mapreduce ((k1,v1)*) -> (k3,v3)*\n",
        "mapreduce .flatmap(f).groupby(k2).flatmap(g)\n",
        "```\n",
        "\n"
      ]
    },
    {
      "cell_type": "markdown",
      "metadata": {
        "id": "CWYw_CpbbY3C"
      },
      "source": [
        "## WordCount"
      ]
    },
    {
      "cell_type": "code",
      "execution_count": 356,
      "metadata": {
        "colab": {
          "base_uri": "https://localhost:8080/"
        },
        "id": "uR_zfGFkMZlp",
        "outputId": "fa1b338e-d7eb-43e3-f70c-8b58c16e2338"
      },
      "outputs": [
        {
          "name": "stdout",
          "output_type": "stream",
          "text": [
            "56 key-value pairs were sent over a network.\n"
          ]
        },
        {
          "data": {
            "text/plain": [
              "[(0, [('', 6), ('banana', 2), ('is', 18), ('what', 10)]),\n",
              " (1, [('a', 2), ('it', 18)])]"
            ]
          },
          "execution_count": 356,
          "metadata": {},
          "output_type": "execute_result"
        }
      ],
      "source": [
        "from typing import Iterator\n",
        "import numpy as np\n",
        "\n",
        "d1 = \"\"\"\n",
        "it is what it is\n",
        "it is what it is\n",
        "it is what it is\"\"\"\n",
        "d2 = \"\"\"\n",
        "what is it\n",
        "what is it\"\"\"\n",
        "d3 = \"\"\"\n",
        "it is a banana\"\"\"\n",
        "documents = [d1, d2, d3, d1, d2, d3]\n",
        "\n",
        "maps = 3\n",
        "reducers = 2\n",
        "\n",
        "def INPUTFORMAT():\n",
        "  global maps\n",
        "\n",
        "  def RECORDREADER(split):\n",
        "    for (docid, document) in enumerate(split):\n",
        "      for (lineid, line) in enumerate(document.split('\\n')):\n",
        "        yield (\"{}:{}\".format(docid,lineid), line)\n",
        "\n",
        "  split_size =  int(np.ceil(len(documents)/maps))\n",
        "  for i in range(0, len(documents), split_size):\n",
        "    yield RECORDREADER(documents[i:i+split_size])\n",
        "\n",
        "def MAP(docId:str, line:str):\n",
        "  for word in line.split(\" \"):\n",
        "    yield (word, 1)\n",
        "\n",
        "def REDUCE(word:str, counts:Iterator[int]):\n",
        "  sum = 0\n",
        "  for c in counts:\n",
        "    sum += c\n",
        "  yield (word, sum)\n",
        "\n",
        "# try to set COMBINER=REDUCER and look at the number of values sent over the network\n",
        "partitioned_output = MapReduceDistributed(INPUTFORMAT, MAP, REDUCE, COMBINER=None)\n",
        "partitioned_output = [(partition_id, list(partition)) for (partition_id, partition) in partitioned_output]\n",
        "partitioned_output"
      ]
    },
    {
      "cell_type": "markdown",
      "metadata": {
        "id": "gCJGx8IQ87xS"
      },
      "source": [
        "## TeraSort"
      ]
    },
    {
      "cell_type": "code",
      "execution_count": 357,
      "metadata": {
        "colab": {
          "base_uri": "https://localhost:8080/"
        },
        "id": "P2v8v1v_8_YR",
        "outputId": "b6a8fb75-e9c7-4fe6-b04e-88fcab7cfeae"
      },
      "outputs": [
        {
          "name": "stdout",
          "output_type": "stream",
          "text": [
            "30 key-value pairs were sent over a network.\n"
          ]
        },
        {
          "data": {
            "text/plain": [
              "[(0,\n",
              "  [(None, 0.06200737616856922),\n",
              "   (None, 0.06495096764159636),\n",
              "   (None, 0.07890254347002501),\n",
              "   (None, 0.11023331338138653),\n",
              "   (None, 0.15377932818072937),\n",
              "   (None, 0.1703952717639282),\n",
              "   (None, 0.20570475853823733),\n",
              "   (None, 0.29421788126038373),\n",
              "   (None, 0.3447081483736104),\n",
              "   (None, 0.3448896498675148),\n",
              "   (None, 0.41785027131825025),\n",
              "   (None, 0.4219377599179259),\n",
              "   (None, 0.46163646005553394),\n",
              "   (None, 0.46269618112206756),\n",
              "   (None, 0.4754791129000261),\n",
              "   (None, 0.48753284263605623),\n",
              "   (None, 0.4936114808903588)]),\n",
              " (1,\n",
              "  [(None, 0.5360892643452263),\n",
              "   (None, 0.5619951494231795),\n",
              "   (None, 0.6095924831553412),\n",
              "   (None, 0.6261412212381188),\n",
              "   (None, 0.7112794008677944),\n",
              "   (None, 0.7516718270300362),\n",
              "   (None, 0.8042336420813441),\n",
              "   (None, 0.8396107272279252),\n",
              "   (None, 0.8679986842201092),\n",
              "   (None, 0.8882093852073082),\n",
              "   (None, 0.9392071749349122),\n",
              "   (None, 0.9781737845503273),\n",
              "   (None, 0.9840575987495273)])]"
            ]
          },
          "execution_count": 357,
          "metadata": {},
          "output_type": "execute_result"
        }
      ],
      "source": [
        "import numpy as np\n",
        "\n",
        "input_values = np.random.rand(30)\n",
        "maps = 3\n",
        "reducers = 2\n",
        "min_value = 0.0\n",
        "max_value = 1.0\n",
        "\n",
        "def INPUTFORMAT():\n",
        "  global maps\n",
        "\n",
        "  def RECORDREADER(split):\n",
        "    for value in split:\n",
        "        yield (value, None)\n",
        "\n",
        "  split_size =  int(np.ceil(len(input_values)/maps))\n",
        "  for i in range(0, len(input_values), split_size):\n",
        "    yield RECORDREADER(input_values[i:i+split_size])\n",
        "\n",
        "def MAP(value:int, _):\n",
        "  yield (value, None)\n",
        "\n",
        "def PARTITIONER(key):\n",
        "  global reducers\n",
        "  global max_value\n",
        "  global min_value\n",
        "  bucket_size = (max_value-min_value)/reducers\n",
        "  bucket_id = 0\n",
        "  while((key>(bucket_id+1)*bucket_size) and ((bucket_id+1)*bucket_size<max_value)):\n",
        "    bucket_id += 1\n",
        "  return bucket_id\n",
        "\n",
        "def REDUCE(value:int, _):\n",
        "  yield (None,value)\n",
        "\n",
        "partitioned_output = MapReduceDistributed(INPUTFORMAT, MAP, REDUCE, COMBINER=None, PARTITIONER=PARTITIONER)\n",
        "partitioned_output = [(partition_id, list(partition)) for (partition_id, partition) in partitioned_output]\n",
        "partitioned_output"
      ]
    },
    {
      "cell_type": "markdown",
      "metadata": {
        "id": "Iy65YJTH99iT"
      },
      "source": [
        "# Упражнения\n",
        "Упражнения взяты из Rajaraman A., Ullman J. D. Mining of massive datasets. – Cambridge University Press, 2011.\n",
        "\n",
        "\n",
        "Для выполнения заданий переопределите функции RECORDREADER, MAP, REDUCE. Для модели распределённой системы может потребоваться переопределение функций PARTITION и COMBINER."
      ]
    },
    {
      "cell_type": "markdown",
      "metadata": {
        "id": "cfvAeZm3S8S8"
      },
      "source": [
        "### Максимальное значение ряда\n",
        "\n",
        "Разработайте MapReduce алгоритм, который находит максимальное число входного списка чисел."
      ]
    },
    {
      "cell_type": "code",
      "execution_count": 358,
      "metadata": {
        "colab": {
          "base_uri": "https://localhost:8080/"
        },
        "id": "3GRA1JR-Tkbg",
        "outputId": "b70ded86-6f51-407a-b162-98802590bd97"
      },
      "outputs": [
        {
          "name": "stdout",
          "output_type": "stream",
          "text": [
            "Row:  [99, 49, 98, 49, 27, 46, 34, 83, 24, 41, 34, 88, 68, 80, 88]\n",
            "Max value:  99\n"
          ]
        }
      ],
      "source": [
        "import random\n",
        "\n",
        "count = 15\n",
        "row = [random.randint(0, 100) for _ in range(count)]\n",
        "\n",
        "def RECORDREADER():\n",
        "  yield (0, row)\n",
        "\n",
        "def MAP(_, row):\n",
        "  yield (0, max(row))\n",
        "\n",
        "def REDUCE(_, max_num):\n",
        "  yield max(max_num)\n",
        "\n",
        "output = MapReduce(RECORDREADER, MAP, REDUCE)\n",
        "output = list(output)[0]\n",
        "print(\"Row: \", row)\n",
        "print(\"Max value: \", output)"
      ]
    },
    {
      "cell_type": "markdown",
      "metadata": {
        "id": "k86bXnqZTk-U"
      },
      "source": [
        "### Арифметическое среднее\n",
        "\n",
        "Разработайте MapReduce алгоритм, который находит арифметическое среднее.\n",
        "\n",
        "$$\\overline{X} = \\frac{1}{n}\\sum_{i=0}^{n} x_i$$\n"
      ]
    },
    {
      "cell_type": "code",
      "execution_count": 359,
      "metadata": {
        "colab": {
          "base_uri": "https://localhost:8080/"
        },
        "id": "MPoY5pkfUNZf",
        "outputId": "e17f1a0a-e17c-4af8-bd9e-f584c412c0ee"
      },
      "outputs": [
        {
          "name": "stdout",
          "output_type": "stream",
          "text": [
            "Row:  [80, 70, 49, 88, 92, 33, 35, 81, 26, 18, 24, 81, 81, 76, 35]\n",
            "Average:  57.93333333333333\n"
          ]
        }
      ],
      "source": [
        "from typing import Iterator\n",
        "\n",
        "count = 15\n",
        "row = [random.randint(0, 100) for _ in range(count)]\n",
        "\n",
        "def RECORDREADER():\n",
        "  yield (0, row)\n",
        "\n",
        "def MAP(_, row:list[int]):\n",
        "  for num in row:\n",
        "    yield (0, num)\n",
        "\n",
        "def REDUCE(_, nums:Iterator[int]):\n",
        "  count = 0\n",
        "  sum = 0\n",
        "  for num in nums:\n",
        "    count += 1\n",
        "    sum += num\n",
        "  yield sum/count\n",
        "\n",
        "output = MapReduce(RECORDREADER, MAP, REDUCE)\n",
        "output = list(output)[0]\n",
        "print(\"Row: \", row)\n",
        "print(\"Average: \", output)"
      ]
    },
    {
      "cell_type": "markdown",
      "metadata": {
        "id": "xanzszhsIlLe"
      },
      "source": [
        "### GroupByKey на основе сортировки\n",
        "\n",
        "Реализуйте groupByKey на основе сортировки, проверьте его работу на примерах"
      ]
    },
    {
      "cell_type": "code",
      "execution_count": 360,
      "metadata": {
        "colab": {
          "base_uri": "https://localhost:8080/"
        },
        "id": "hQPn3USsIkEC",
        "outputId": "186e133d-3230-48c8-cc53-6e69c9be83bb"
      },
      "outputs": [
        {
          "data": {
            "text/plain": [
              "[('a', ['2']),\n",
              " ('banana', ['2']),\n",
              " ('is', ['0', '1', '2']),\n",
              " ('it', ['0', '1', '2']),\n",
              " ('what', ['0', '1'])]"
            ]
          },
          "execution_count": 360,
          "metadata": {},
          "output_type": "execute_result"
        }
      ],
      "source": [
        "from typing import Iterator\n",
        "\n",
        "d1 = \"it is what it is\"\n",
        "d2 = \"what is it\"\n",
        "d3 = \"it is a banana\"\n",
        "documents = [d1, d2, d3]\n",
        "\n",
        "def RECORDREADER():\n",
        "  for (docid, document) in enumerate(documents):\n",
        "    yield (\"{}\".format(docid), document)\n",
        "\n",
        "def MAP(docId:str, body:str):\n",
        "  for word in set(body.split(' ')):\n",
        "    yield (word, docId)\n",
        "\n",
        "def REDUCE(word:str, docIds:Iterator[str]):\n",
        "  yield (word, sorted(docIds))\n",
        "\n",
        "def groupbykey(iterable):\n",
        "  \"\"\" Ф-ция группировки на основе сортировки \"\"\"\n",
        "  t = []\n",
        "  idx = -1\n",
        "  prev_k2 = None\n",
        "  for (k2, v2) in sorted(iterable, key=lambda x: x[0]):\n",
        "    if k2 != prev_k2:\n",
        "      idx += 1\n",
        "      prev_k2 = k2\n",
        "      t.append(tuple([k2, []]))\n",
        "    t[idx][1].append(v2)\n",
        "  return t\n",
        "\n",
        "output = MapReduce(RECORDREADER, MAP, REDUCE)\n",
        "output = list(output)\n",
        "output"
      ]
    },
    {
      "cell_type": "code",
      "execution_count": 361,
      "metadata": {
        "id": "QAI_07UOdZtG"
      },
      "outputs": [],
      "source": [
        "def groupbykey(iterable):\n",
        "  t = {}\n",
        "  for (k2, v2) in iterable:\n",
        "    t[k2] = t.get(k2, []) + [v2]\n",
        "  return t.items()\n",
        "\n",
        "def PARTITIONER(obj):\n",
        "  global reducers\n",
        "  return hash(obj) % reducers"
      ]
    },
    {
      "cell_type": "markdown",
      "metadata": {
        "id": "5SgEjCZyGnu6"
      },
      "source": [
        "### Drop duplicates (set construction, unique elements, distinct)\n",
        "\n",
        "Реализуйте распределённую операцию исключения дубликатов"
      ]
    },
    {
      "cell_type": "code",
      "execution_count": 362,
      "metadata": {
        "colab": {
          "base_uri": "https://localhost:8080/"
        },
        "id": "okjbyApjGhMt",
        "outputId": "74a3fe59-bdaa-44fe-b38f-c81eb405ca70"
      },
      "outputs": [
        {
          "name": "stdout",
          "output_type": "stream",
          "text": [
            "30 key-value pairs were sent over a network.\n",
            "Row:  [6, 1, 3, 3, 4, 10, 2, 2, 3, 5, 10, 5, 3, 10, 6, 3, 6, 6, 3, 8, 0, 0, 6, 10, 0, 9, 10, 0, 1, 2]\n",
            "Unique row:  [(0, [[1, 2, 3, 4, 5, 6, 10]]), (1, [[0, 1, 2, 3, 6, 8, 9, 10]])]\n"
          ]
        }
      ],
      "source": [
        "from typing import Iterator\n",
        "\n",
        "count = 30\n",
        "row = [random.randint(0, 10) for _ in range(count)]\n",
        "\n",
        "maps = 2 # Число мапперов\n",
        "reducers = 2 # Число редьюсеров\n",
        "\n",
        "def INPUTFORMAT():\n",
        "  global maps\n",
        "\n",
        "  def RECORDREADER(idx, split):\n",
        "    for num in split:\n",
        "      yield (idx, num) # (идентификатор маппера, элемент строки)\n",
        "\n",
        "  split_size =  int(np.ceil(len(row)/maps))\n",
        "  # Разделение строки по мапперам\n",
        "  for idx, i in enumerate(range(0, len(row), split_size)):\n",
        "    yield RECORDREADER(idx, row[i:i+split_size])\n",
        "\n",
        "def MAP(idx, num:int):\n",
        "  yield (idx, num) # (идентификатор маппера, элемент строки)\n",
        "\n",
        "def REDUCE(_, nums:Iterator[int]):\n",
        "  yield list(set(nums)) # Оставляем только уникальные элементы\n",
        "\n",
        "partitioned_output = MapReduceDistributed(INPUTFORMAT, MAP, REDUCE, COMBINER=None, PARTITIONER=PARTITIONER)\n",
        "partitioned_output = [(partition_id, list(partition)) for (partition_id, partition) in partitioned_output]\n",
        "print(\"Row: \", row)\n",
        "print(\"Unique row: \", partitioned_output)"
      ]
    },
    {
      "cell_type": "markdown",
      "metadata": {
        "id": "e7sRGoTXuJze"
      },
      "source": [
        "#Операторы реляционной алгебры\n",
        "### Selection (Выборка)\n",
        "\n",
        "**The Map Function**: Для  каждого кортежа $t \\in R$ вычисляется истинность предиката $C$. В случае истины создаётся пара ключ-значение $(t, t)$. В паре ключ и значение одинаковы, равны $t$.\n",
        "\n",
        "**The Reduce Function:** Роль функции Reduce выполняет функция идентичности, которая возвращает то же значение, что получила на вход.\n",
        "\n"
      ]
    },
    {
      "cell_type": "code",
      "execution_count": 363,
      "metadata": {
        "colab": {
          "base_uri": "https://localhost:8080/"
        },
        "id": "4nKIKe59uIfc",
        "outputId": "72e8d652-2963-44d3-fb3f-9dba9ed71d35"
      },
      "outputs": [
        {
          "data": {
            "text/plain": [
              "[User(id=1, age=25, social_contacts=240, gender='female'),\n",
              " User(id=2, age=25, social_contacts=500, gender='female'),\n",
              " User(id=3, age=33, social_contacts=800, gender='female')]"
            ]
          },
          "execution_count": 363,
          "metadata": {},
          "output_type": "execute_result"
        }
      ],
      "source": [
        "from typing import NamedTuple\n",
        "from typing import Iterator\n",
        "\n",
        "class User(NamedTuple):\n",
        "  id: int\n",
        "  age: str\n",
        "  social_contacts: int\n",
        "  gender: str\n",
        "\n",
        "input_collection = [\n",
        "    User(id=0, age=55, gender='male', social_contacts=20),\n",
        "    User(id=1, age=25, gender='female', social_contacts=240),\n",
        "    User(id=2, age=25, gender='female', social_contacts=500),\n",
        "    User(id=3, age=33, gender='female', social_contacts=800)\n",
        "]\n",
        "\n",
        "C = lambda row: row.gender == 'female' # Ф-ция предикат\n",
        "\n",
        "def RECORDREADER():\n",
        "  for it in input_collection:\n",
        "    yield (None, it)\n",
        "\n",
        "def MAP(_, t):\n",
        "  if (C(t)):\n",
        "    yield (t, t)\n",
        "\n",
        "def REDUCE(t, ts):\n",
        "  # Используем цикл, чтобы оставить повторяющиеся кортежи\n",
        "  for it in ts:\n",
        "    yield (it, it)\n",
        "\n",
        "output = MapReduce(RECORDREADER, MAP, REDUCE)\n",
        "output = list(map(lambda x: x[0], output))\n",
        "output"
      ]
    },
    {
      "cell_type": "markdown",
      "metadata": {
        "id": "w27Ca-_Ku85V"
      },
      "source": [
        "### Projection (Проекция)\n",
        "\n",
        "Проекция на множество атрибутов $S$.\n",
        "\n",
        "**The Map Function:** Для каждого кортежа $t \\in R$ создайте кортеж $t′$, исключая  из $t$ те значения, атрибуты которых не принадлежат  $S$. Верните пару $(t′, t′)$.\n",
        "\n",
        "**The Reduce Function:** Для каждого ключа $t′$, созданного любой Map задачей, вы получаете одну или несколько пар $(t′, t′)$. Reduce функция преобразует $(t′, [t′, t′, . . . , t′])$ в $(t′, t′)$, так, что для ключа $t′$ возвращается одна пара  $(t′, t′)$."
      ]
    },
    {
      "cell_type": "code",
      "execution_count": 364,
      "metadata": {
        "colab": {
          "base_uri": "https://localhost:8080/"
        },
        "id": "BEvuY4GqvhS6",
        "outputId": "2adac98d-ad88-4263-e750-bd1176bf66ac"
      },
      "outputs": [
        {
          "data": {
            "text/plain": [
              "[PUser(age=55, gender='male'),\n",
              " PUser(age=25, gender='female'),\n",
              " PUser(age=33, gender='female')]"
            ]
          },
          "execution_count": 364,
          "metadata": {},
          "output_type": "execute_result"
        }
      ],
      "source": [
        "from typing import NamedTuple\n",
        "from typing import Iterator\n",
        "\n",
        "class User(NamedTuple):\n",
        "  id: int\n",
        "  age: str\n",
        "  social_contacts: int\n",
        "  gender: str\n",
        "\n",
        "class PUser(NamedTuple):\n",
        "  age: int\n",
        "  gender: str\n",
        "\n",
        "input_collection = [\n",
        "    User(id=0, age=55, gender='male', social_contacts=20),\n",
        "    User(id=1, age=25, gender='female', social_contacts=240),\n",
        "    User(id=2, age=25, gender='female', social_contacts=500),\n",
        "    User(id=3, age=33, gender='female', social_contacts=800)\n",
        "]\n",
        "\n",
        "S = lambda row: PUser(age=row.age, gender=row.gender) # Ф-ция проекции\n",
        "\n",
        "def RECORDREADER():\n",
        "  for it in input_collection:\n",
        "    yield (None, it)\n",
        "\n",
        "def MAP(_, t):\n",
        "  s = S(t)\n",
        "  yield (s, s)\n",
        "\n",
        "def REDUCE(t, ts):\n",
        "  # Не используем цикл, чтобы оставить только уникальные кортежи\n",
        "  yield (t, t)\n",
        "\n",
        "output = MapReduce(RECORDREADER, MAP, REDUCE)\n",
        "output = list(map(lambda x: x[0], output))\n",
        "output"
      ]
    },
    {
      "cell_type": "markdown",
      "metadata": {
        "id": "7gau6lKXvn2R"
      },
      "source": [
        "### Union (Объединение)\n",
        "\n",
        "**The Map Function:** Превратите каждый входной кортеж $t$ в пару ключ-значение $(t, t)$.\n",
        "\n",
        "**The Reduce Function:** С каждым ключом $t$ будет ассоциировано одно или два значений. В обоих случаях создайте $(t, t)$ в качестве выходного значения."
      ]
    },
    {
      "cell_type": "code",
      "execution_count": 365,
      "metadata": {
        "colab": {
          "base_uri": "https://localhost:8080/"
        },
        "id": "Sns7a5agv3nw",
        "outputId": "39b2a60b-3793-44db-eada-1fd1a85e7608"
      },
      "outputs": [
        {
          "data": {
            "text/plain": [
              "[User(id=0, age=55, social_contacts=20, gender='male'),\n",
              " User(id=1, age=25, social_contacts=240, gender='female'),\n",
              " User(id=2, age=25, social_contacts=500, gender='female'),\n",
              " User(id=3, age=33, social_contacts=800, gender='female'),\n",
              " User(id=4, age=55, social_contacts=420, gender='male')]"
            ]
          },
          "execution_count": 365,
          "metadata": {},
          "output_type": "execute_result"
        }
      ],
      "source": [
        "from typing import NamedTuple\n",
        "from typing import Iterator\n",
        "\n",
        "class User(NamedTuple):\n",
        "  id: int\n",
        "  age: str\n",
        "  social_contacts: int\n",
        "  gender: str\n",
        "\n",
        "input_collection = [\n",
        "    User(id=0, age=55, gender='male', social_contacts=20),\n",
        "    User(id=1, age=25, gender='female', social_contacts=240),\n",
        "    User(id=2, age=25, gender='female', social_contacts=500),\n",
        "    User(id=3, age=33, gender='female', social_contacts=800)\n",
        "]\n",
        "\n",
        "input_collection2 = [\n",
        "    User(id=0, age=55, gender='male', social_contacts=20),\n",
        "    User(id=1, age=25, gender='female', social_contacts=240),\n",
        "    User(id=4, age=55, gender='male', social_contacts=420)\n",
        "]\n",
        "\n",
        "def RECORDREADER():\n",
        "  for it in input_collection:\n",
        "    yield (1, it) # Элементы множества R\n",
        "  for it in input_collection2:\n",
        "    yield (2, it) # Элементы множества S\n",
        "\n",
        "def MAP(_, t):\n",
        "  yield (t, t)\n",
        "\n",
        "def REDUCE(t, ts):\n",
        "  yield (t, t)\n",
        "\n",
        "output = MapReduce(RECORDREADER, MAP, REDUCE)\n",
        "output = list(map(lambda x: x[0], output))\n",
        "output"
      ]
    },
    {
      "cell_type": "markdown",
      "metadata": {
        "id": "dQ8TuEbjv4J8"
      },
      "source": [
        "### Intersection (Пересечение)\n",
        "\n",
        "**The Map Function:** Превратите каждый кортеж $t$ в пары ключ-значение $(t, t)$.\n",
        "\n",
        "**The Reduce Function:** Если для ключа $t$ есть список из двух элементов $[t, t]$ $-$ создайте пару $(t, t)$. Иначе, ничего не создавайте."
      ]
    },
    {
      "cell_type": "code",
      "execution_count": 366,
      "metadata": {
        "colab": {
          "base_uri": "https://localhost:8080/"
        },
        "id": "XKlBZh4IwERR",
        "outputId": "79740025-bf32-4816-91d3-4c5ca950453e"
      },
      "outputs": [
        {
          "data": {
            "text/plain": [
              "[User(id=0, age=55, social_contacts=20, gender='male'),\n",
              " User(id=1, age=25, social_contacts=240, gender='female')]"
            ]
          },
          "execution_count": 366,
          "metadata": {},
          "output_type": "execute_result"
        }
      ],
      "source": [
        "from typing import NamedTuple\n",
        "from typing import Iterator\n",
        "\n",
        "class User(NamedTuple):\n",
        "  id: int\n",
        "  age: str\n",
        "  social_contacts: int\n",
        "  gender: str\n",
        "\n",
        "input_collection = [\n",
        "    User(id=0, age=55, gender='male', social_contacts=20),\n",
        "    User(id=1, age=25, gender='female', social_contacts=240),\n",
        "    User(id=2, age=25, gender='female', social_contacts=500),\n",
        "    User(id=3, age=33, gender='female', social_contacts=800)\n",
        "]\n",
        "\n",
        "input_collection2 = [\n",
        "    User(id=0, age=55, gender='male', social_contacts=20),\n",
        "    User(id=1, age=25, gender='female', social_contacts=240),\n",
        "    User(id=4, age=55, gender='male', social_contacts=420)\n",
        "]\n",
        "\n",
        "def RECORDREADER():\n",
        "  for it in input_collection:\n",
        "    yield (1, it) # Элементы множества R\n",
        "  for it in input_collection2:\n",
        "    yield (2, it) # Элементы множества S\n",
        "\n",
        "def MAP(_, t):\n",
        "  yield (t, t)\n",
        "\n",
        "def REDUCE(t, ts):\n",
        "  if len(ts) == 2:\n",
        "    yield (t, t)\n",
        "\n",
        "output = MapReduce(RECORDREADER, MAP, REDUCE)\n",
        "output = list(map(lambda x: x[0], output))\n",
        "output"
      ]
    },
    {
      "cell_type": "markdown",
      "metadata": {
        "id": "AVOpqoY3wE5k"
      },
      "source": [
        "### Difference (Разница)\n",
        "\n",
        "**The Map Function:** Для кортежа $t \\in R$, создайте пару $(t, R)$, и для кортежа $t \\in S$, создайте пару $(t, S)$. Задумка заключается в том, чтобы значение пары было именем отношения $R$ or $S$, которому принадлежит кортеж (а лучше, единичный бит, по которому можно два отношения различить $R$ or $S$), а не весь набор атрибутов отношения.\n",
        "\n",
        "**The Reduce Function:** Для каждого ключа $t$, если соответствующее значение является списком $[R]$, создайте пару $(t, t)$. В иных случаях не предпринимайте действий."
      ]
    },
    {
      "cell_type": "code",
      "execution_count": 367,
      "metadata": {
        "colab": {
          "base_uri": "https://localhost:8080/"
        },
        "id": "QE_AC09lwZIZ",
        "outputId": "4435b702-7457-48ae-ccdf-403fd68a3788"
      },
      "outputs": [
        {
          "data": {
            "text/plain": [
              "[User(id=2, age=25, social_contacts=500, gender='female'),\n",
              " User(id=3, age=33, social_contacts=800, gender='female')]"
            ]
          },
          "execution_count": 367,
          "metadata": {},
          "output_type": "execute_result"
        }
      ],
      "source": [
        "from typing import NamedTuple\n",
        "from typing import Iterator\n",
        "\n",
        "class User(NamedTuple):\n",
        "  id: int\n",
        "  age: str\n",
        "  social_contacts: int\n",
        "  gender: str\n",
        "\n",
        "input_collection = [\n",
        "    User(id=0, age=55, gender='male', social_contacts=20),\n",
        "    User(id=1, age=25, gender='female', social_contacts=240),\n",
        "    User(id=2, age=25, gender='female', social_contacts=500),\n",
        "    User(id=3, age=33, gender='female', social_contacts=800)\n",
        "]\n",
        "\n",
        "input_collection2 = [\n",
        "    User(id=0, age=55, gender='male', social_contacts=20),\n",
        "    User(id=1, age=25, gender='female', social_contacts=240),\n",
        "    User(id=4, age=55, gender='male', social_contacts=420)\n",
        "]\n",
        "\n",
        "def RECORDREADER():\n",
        "  for it in input_collection:\n",
        "    yield (1, it) # Элементы множества R\n",
        "  for it in input_collection2:\n",
        "    yield (2, it) # Элементы множества S\n",
        "\n",
        "def MAP(r, t):\n",
        "  yield(t, r)\n",
        "\n",
        "def REDUCE(t, rs):\n",
        "  if len(rs) == 1 and rs[0] == 1:\n",
        "    yield (t, t)\n",
        "\n",
        "output = MapReduce(RECORDREADER, MAP, REDUCE)\n",
        "output = list(map(lambda x: x[0], output))\n",
        "output"
      ]
    },
    {
      "cell_type": "markdown",
      "metadata": {
        "id": "j8I58V2VwhSm"
      },
      "source": [
        "### Natural Join\n",
        "\n",
        "**The Map Function:** Для каждого кортежа $(a, b)$ отношения $R$, создайте пару $(b,(R, a))$. Для каждого кортежа $(b, c)$ отношения $S$, создайте пару $(b,(S, c))$.\n",
        "\n",
        "**The Reduce Function:** Каждый ключ $b$ будет асоциирован со списком пар, которые принимают форму либо $(R, a)$, либо $(S, c)$. Создайте все пары, одни, состоящие из  первого компонента $R$, а другие, из первого компонента $S$, то есть $(R, a)$ и $(S, c)$. На выходе вы получаете последовательность пар ключ-значение из списков ключей и значений. Ключ не нужен. Каждое значение, это тройка $(a, b, c)$ такая, что $(R, a)$ и $(S, c)$ это принадлежат входному списку значений."
      ]
    },
    {
      "cell_type": "code",
      "execution_count": 368,
      "metadata": {
        "colab": {
          "base_uri": "https://localhost:8080/"
        },
        "id": "yHiuuTctw86I",
        "outputId": "97beafc5-7f25-4062-9763-d620d68b92de"
      },
      "outputs": [
        {
          "data": {
            "text/plain": [
              "[UserGender(id=0, age=55, social_contacts=20, gender='male', power=2),\n",
              " UserGender(id=1, age=25, social_contacts=240, gender='female', power=1),\n",
              " UserGender(id=2, age=25, social_contacts=500, gender='female', power=1),\n",
              " UserGender(id=3, age=33, social_contacts=800, gender='female', power=1)]"
            ]
          },
          "execution_count": 368,
          "metadata": {},
          "output_type": "execute_result"
        }
      ],
      "source": [
        "from typing import NamedTuple\n",
        "from typing import Iterator\n",
        "\n",
        "class User(NamedTuple):\n",
        "  id: int\n",
        "  age: str\n",
        "  social_contacts: int\n",
        "  gender: str\n",
        "\n",
        "class Gender(NamedTuple):\n",
        "  gender: str\n",
        "  power: int\n",
        "\n",
        "class UserGender(NamedTuple):\n",
        "  id: int\n",
        "  age: str\n",
        "  social_contacts: int\n",
        "  gender: str\n",
        "  power: int\n",
        "\n",
        "input_collection = [\n",
        "    User(id=0, age=55, gender='male', social_contacts=20),\n",
        "    User(id=1, age=25, gender='female', social_contacts=240),\n",
        "    User(id=2, age=25, gender='female', social_contacts=500),\n",
        "    User(id=3, age=33, gender='female', social_contacts=800)\n",
        "]\n",
        "\n",
        "input_collection2 = [\n",
        "    Gender(gender='male', power=2),\n",
        "    Gender(gender='female', power=1)\n",
        "]\n",
        "\n",
        "K = lambda row: row.gender # Ф-ция ключа для соединения\n",
        "create_join = lambda r, s, gender: UserGender(id=r.id, age=r.age, social_contacts=r.social_contacts, gender=gender, power=s.power) # Ф-ция создание соединения\n",
        "\n",
        "def RECORDREADER():\n",
        "  for it in input_collection:\n",
        "    yield (1, it) # Элементы множества R\n",
        "  for it in input_collection2:\n",
        "    yield (2, it) # Элементы множества S\n",
        "\n",
        "def MAP(r, t):\n",
        "  yield (K(t), (r, t))\n",
        "\n",
        "def REDUCE(k, rts):\n",
        "  R = list(filter(lambda x: x[0] == 1, rts)) # Фильтруем кортежи по множеству R\n",
        "  S = list(filter(lambda x: x[0] == 2, rts)) # Фильтруем кортежи по множеству S\n",
        "  # Соединяем по принципу декартова произведения\n",
        "  for r in R:\n",
        "    for s in S:\n",
        "      yield create_join(r[1], s[1], k)\n",
        "\n",
        "output = MapReduce(RECORDREADER, MAP, REDUCE)\n",
        "output = list(output)\n",
        "output"
      ]
    },
    {
      "cell_type": "markdown",
      "metadata": {
        "id": "kYdlr0YUxE27"
      },
      "source": [
        "### Grouping and Aggregation (Группировка и аггрегация)\n",
        "\n",
        "**The Map Function:** Для каждого кортежа $(a, b, c$) создайте пару $(a, b)$.\n",
        "\n",
        "**The Reduce Function:** Ключ представляет ту или иную группу. Примение аггрегирующую операцию $\\theta$ к списку значений $[b1, b2, . . . , bn]$ ассоциированных с ключом $a$. Возвращайте в выходной поток $(a, x)$, где $x$ результат применения  $\\theta$ к списку. Например, если $\\theta$ это $SUM$, тогда $x = b1 + b2 + · · · + bn$, а если $\\theta$ is $MAX$, тогда $x$ это максимальное из значений $b1, b2, . . . , bn$."
      ]
    },
    {
      "cell_type": "code",
      "execution_count": 369,
      "metadata": {
        "colab": {
          "base_uri": "https://localhost:8080/"
        },
        "id": "MLPckfEGxico",
        "outputId": "6edf2015-1b23-4cd1-f4c6-73d8c086d44d"
      },
      "outputs": [
        {
          "data": {
            "text/plain": [
              "[('male', 55.0), ('female', 27.666666666666668)]"
            ]
          },
          "execution_count": 369,
          "metadata": {},
          "output_type": "execute_result"
        }
      ],
      "source": [
        "from typing import NamedTuple\n",
        "from typing import Iterator\n",
        "\n",
        "class User(NamedTuple):\n",
        "  id: int\n",
        "  age: str\n",
        "  social_contacts: int\n",
        "  gender: str\n",
        "\n",
        "input_collection = [\n",
        "    User(id=0, age=55, gender='male', social_contacts=20),\n",
        "    User(id=1, age=25, gender='female', social_contacts=240),\n",
        "    User(id=2, age=25, gender='female', social_contacts=500),\n",
        "    User(id=3, age=33, gender='female', social_contacts=800)\n",
        "]\n",
        "\n",
        "G = lambda row: row.gender # Ф-ция для столбца группировки\n",
        "A = lambda row: row.age # Ф-ция столбца агрегирования\n",
        "\n",
        "aggregate = lambda a: sum(a)/len(a) # Ф-ция агрегирования\n",
        "\n",
        "def RECORDREADER():\n",
        "  for it in input_collection:\n",
        "    yield (None, it)\n",
        "\n",
        "def MAP(_, t):\n",
        "  yield (G(t), A(t))\n",
        "\n",
        "def REDUCE(g, a):\n",
        "  yield (g, aggregate(a))\n",
        "\n",
        "output = MapReduce(RECORDREADER, MAP, REDUCE)\n",
        "output = list(output)\n",
        "output"
      ]
    },
    {
      "cell_type": "markdown",
      "metadata": {
        "id": "IIrRgvG4RIS4"
      },
      "source": [
        "### Matrix-Vector multiplication\n",
        "\n",
        "Случай, когда вектор не помещается в памяти Map задачи\n"
      ]
    },
    {
      "cell_type": "code",
      "execution_count": 370,
      "metadata": {
        "colab": {
          "base_uri": "https://localhost:8080/"
        },
        "id": "KQhDbiL3zS9r",
        "outputId": "a47969db-a6c6-4742-e54c-85130c929b5d"
      },
      "outputs": [
        {
          "name": "stdout",
          "output_type": "stream",
          "text": [
            "40 key-value pairs were sent over a network.\n"
          ]
        },
        {
          "data": {
            "text/plain": [
              "[(0,\n",
              "  [(0, 0.0),\n",
              "   (1, 10.0),\n",
              "   (2, 20.0),\n",
              "   (3, 30.0),\n",
              "   (4, 40.0),\n",
              "   (5, 50.0),\n",
              "   (6, 60.0),\n",
              "   (7, 70.0),\n",
              "   (8, 80.0),\n",
              "   (9, 90.0)])]"
            ]
          },
          "execution_count": 370,
          "metadata": {},
          "output_type": "execute_result"
        }
      ],
      "source": [
        "from typing import Iterator\n",
        "import numpy as np\n",
        "\n",
        "mat = np.array([(np.ones([4])*i) for i in range(10)])\n",
        "vec = np.array([1, 2, 3, 4])\n",
        "\n",
        "maps = 3 # Число мапперов\n",
        "reducers = 1 # Число редьюсеров\n",
        "\n",
        "def INPUTFORMAT():\n",
        "  global maps\n",
        "\n",
        "  def RECORDREADER(idx, split):\n",
        "    # Помимо элементов матрицы передаем соответствующие им элементы вектора\n",
        "    for i in range(split.shape[0]):\n",
        "      for j in range(split.shape[1]):\n",
        "        yield (idx+i, (split[i, j], vec[j]))\n",
        "\n",
        "  split_size =  int(np.ceil(mat.shape[0]/maps))\n",
        "  for i in range(0, mat.shape[0], split_size):\n",
        "    yield RECORDREADER(i, mat[i:i+split_size,:])\n",
        "\n",
        "def MAP(coordinates:int, value:tuple[int, int]):\n",
        "  i = coordinates\n",
        "  mat_v, vec_v = value\n",
        "  yield (i, mat_v * vec_v)\n",
        "\n",
        "def REDUCE(row:tuple[int, int], values:Iterator[int]):\n",
        "  yield (row, sum(values))\n",
        "\n",
        "partitioned_output = MapReduceDistributed(INPUTFORMAT, MAP, REDUCE, COMBINER=None, PARTITIONER=PARTITIONER)\n",
        "partitioned_output = [(partition_id, list(partition)) for (partition_id, partition) in partitioned_output]\n",
        "partitioned_output"
      ]
    },
    {
      "cell_type": "markdown",
      "metadata": {
        "id": "GIo2t7nNxvA9"
      },
      "source": [
        "## Matrix multiplication (Перемножение матриц)\n",
        "\n",
        "Если у нас есть матрица $M$ с элементами $m_{ij}$ в строке $i$ и столбце $j$, и матрица $N$ с элементами $n_{jk}$ в строке $j$ и столбце $k$, тогда их произведение $P = MN$ есть матрица $P$ с элементами $p_{ik}$ в строке $i$ и столбце $k$, где\n",
        "\n",
        "$$p_{ik} =\\sum_{j} m_{ij}n_{jk}$$\n",
        "\n",
        "Необходимым требованием является одинаковое количество столбцов в $M$ и строк в $N$, чтобы операция суммирования по  $j$ была осмысленной. Мы можем размышлять о матрице, как об отношении с тремя атрибутами: номер строки, номер столбца, само значение. Таким образом матрица $M$ предстваляется как отношение $ M(I, J, V )$, с кортежами $(i, j, m_{ij})$, и, аналогично, матрица $N$ представляется как отношение $N(J, K, W)$, с кортежами $(j, k, n_{jk})$. Так как большие матрицы как правило разреженные (большинство значений равно 0), и так как мы можем нулевыми значениями пренебречь (не хранить), такое реляционное представление достаточно эффективно для больших матриц. Однако, возможно, что координаты $i$, $j$, и $k$ неявно закодированы в смещение позиции элемента относительно начала файла, вместо явного хранения. Тогда, функция Map (или Reader) должна быть разработана таким образом, чтобы реконструировать компоненты $I$, $J$, и $K$ кортежей из смещения.\n",
        "\n",
        "Произведение $MN$ это фактически join, за которым следуют группировка по ключу и аггрегация. Таким образом join отношений $M(I, J, V )$ и $N(J, K, W)$, имеющих общим только атрибут $J$, создаст кортежи $(i, j, k, v, w)$ из каждого кортежа $(i, j, v) \\in M$ и кортежа $(j, k, w) \\in N$. Такой 5 компонентный кортеж представляет пару элементов матрицы $(m_{ij} , n_{jk})$. Что нам хотелось бы получить на самом деле, это произведение этих элементов, то есть, 4 компонентный кортеж$(i, j, k, v \\times w)$, так как он представляет произведение $m_{ij}n_{jk}$. Мы представляем отношение как результат одной MapReduce операции, в которой мы можем произвести группировку и аггрегацию, с $I$ и $K$  атрибутами, по которым идёт группировка, и суммой  $V \\times W$.\n",
        "\n",
        "\n",
        "\n"
      ]
    },
    {
      "cell_type": "code",
      "execution_count": 371,
      "metadata": {
        "id": "1MBkGaLAYVCt"
      },
      "outputs": [],
      "source": [
        "# MapReduce model\n",
        "def flatten(nested_iterable):\n",
        "  for iterable in nested_iterable:\n",
        "    for element in iterable:\n",
        "      yield element\n",
        "\n",
        "def groupbykey(iterable):\n",
        "  t = {}\n",
        "  for (k2, v2) in iterable:\n",
        "    t[k2] = t.get(k2, []) + [v2]\n",
        "  return t.items()\n",
        "\n",
        "def MapReduce(RECORDREADER, MAP, REDUCE):\n",
        "  return flatten(map(lambda x: REDUCE(*x), groupbykey(flatten(map(lambda x: MAP(*x), RECORDREADER())))))"
      ]
    },
    {
      "cell_type": "markdown",
      "metadata": {
        "id": "sMspsOT0ZB35"
      },
      "source": [
        "Реализуйте перемножение матриц с использованием модельного кода MapReduce для одной машины в случае, когда одна матрица хранится в памяти, а другая генерируется RECORDREADER-ом."
      ]
    },
    {
      "cell_type": "code",
      "execution_count": 372,
      "metadata": {
        "id": "psP1XekbsEjS"
      },
      "outputs": [],
      "source": [
        "import numpy as np\n",
        "I = 2\n",
        "J = 3\n",
        "K = 4*10\n",
        "small_mat = np.random.rand(I,J) # Маленькая матрица\n",
        "big_mat = np.random.rand(J,K) # Большая матрица\n",
        "\n",
        "def RECORDREADER():\n",
        "  for j in range(big_mat.shape[0]):\n",
        "    for k in range(big_mat.shape[1]):\n",
        "      yield ((j,k), big_mat[j,k])\n",
        "\n",
        "def MAP(k1, v1):\n",
        "  (j, k) = k1\n",
        "  # Получаем под одним ключем элементы скалярного произведения\n",
        "  for i in range(small_mat.shape[0]):\n",
        "    yield ((i, k), v1 * small_mat[i][j])\n",
        "\n",
        "def REDUCE(key, values):\n",
        "  (i, k) = key\n",
        "  yield(key, sum(values)) # Суммируем элементы скалярного произведения"
      ]
    },
    {
      "cell_type": "markdown",
      "metadata": {
        "id": "rnt306LHhHrm"
      },
      "source": [
        "Проверьте своё решение"
      ]
    },
    {
      "cell_type": "code",
      "execution_count": 373,
      "metadata": {
        "colab": {
          "base_uri": "https://localhost:8080/"
        },
        "id": "Ewy_ZNYqW5a2",
        "outputId": "7cda1c9a-e27f-4108-a8a1-84e8e12a6f9b"
      },
      "outputs": [
        {
          "data": {
            "text/plain": [
              "True"
            ]
          },
          "execution_count": 373,
          "metadata": {},
          "output_type": "execute_result"
        }
      ],
      "source": [
        "# CHECK THE SOLUTION\n",
        "reference_solution = np.matmul(small_mat, big_mat)\n",
        "solution = MapReduce(RECORDREADER, MAP, REDUCE)\n",
        "\n",
        "def asmatrix(reduce_output):\n",
        "  reduce_output = list(reduce_output)\n",
        "  I = max(i for ((i,k), vw) in reduce_output)+1\n",
        "  K = max(k for ((i,k), vw) in reduce_output)+1\n",
        "  mat = np.empty(shape=(I,K))\n",
        "  for ((i,k), vw) in reduce_output:\n",
        "    mat[i,k] = vw\n",
        "  return mat\n",
        "\n",
        "np.allclose(reference_solution, asmatrix(solution)) # should return true"
      ]
    },
    {
      "cell_type": "code",
      "execution_count": 374,
      "metadata": {
        "colab": {
          "base_uri": "https://localhost:8080/"
        },
        "id": "TK7v4CEcfxqf",
        "outputId": "4a17c78f-d534-4c80-8ebe-a724a6fbb8eb"
      },
      "outputs": [
        {
          "data": {
            "text/plain": [
              "1"
            ]
          },
          "execution_count": 374,
          "metadata": {},
          "output_type": "execute_result"
        }
      ],
      "source": [
        "reduce_output = list(MapReduce(RECORDREADER, MAP, REDUCE))\n",
        "max(i for ((i,k), vw) in reduce_output)"
      ]
    },
    {
      "cell_type": "markdown",
      "metadata": {
        "id": "i4yyg3kOZqJJ"
      },
      "source": [
        "Реализуйте перемножение матриц  с использованием модельного кода MapReduce для одной машины в случае, когда обе матрицы генерируются в RECORDREADER. Например, сначала одна, а потом другая."
      ]
    },
    {
      "cell_type": "code",
      "execution_count": 375,
      "metadata": {
        "colab": {
          "base_uri": "https://localhost:8080/"
        },
        "id": "3B7rIAJCaHZq",
        "outputId": "1afe49ca-46ce-4a6b-97a3-e3262478e6ef"
      },
      "outputs": [
        {
          "data": {
            "text/plain": [
              "True"
            ]
          },
          "execution_count": 375,
          "metadata": {},
          "output_type": "execute_result"
        }
      ],
      "source": [
        "import numpy as np\n",
        "I = 2\n",
        "J = 3\n",
        "K = 4*10\n",
        "small_mat = np.random.rand(I,J) # Маленькая матрица\n",
        "big_mat = np.random.rand(J,K) # Большая матрица\n",
        "\n",
        "def RECORDREADER():\n",
        "  # Элементы маленькой матрицы\n",
        "  for i in range(small_mat.shape[0]):\n",
        "    for j in range(small_mat.shape[1]):\n",
        "      for k in range(big_mat.shape[1]):\n",
        "        yield ((i,k), (1, small_mat[i,j]))\n",
        "  # Элементы большой матрицы\n",
        "  for i in range(small_mat.shape[0]):\n",
        "    for j in range(big_mat.shape[0]):\n",
        "      for k in range(big_mat.shape[1]):\n",
        "        yield ((i,k), (2, big_mat[j,k]))\n",
        "\n",
        "def MAP(k1, v1):\n",
        "  yield (k1, v1)\n",
        "\n",
        "def REDUCE(key, values):\n",
        "  # Получение слагаемых из скалярного произведения элемента (i, k) новой матрицы\n",
        "  small_m = np.array([val for idx, val in values if idx == 1])\n",
        "  big_m =  np.array([val for idx, val in values if idx == 2])\n",
        "  yield (key, small_m @ big_m)\n",
        "\n",
        "# Проверка\n",
        "solution = MapReduce(RECORDREADER, MAP, REDUCE)\n",
        "np.allclose(small_mat @ big_mat, asmatrix(solution))"
      ]
    },
    {
      "cell_type": "markdown",
      "metadata": {
        "id": "mXyzQi1DaIwo"
      },
      "source": [
        "Реализуйте перемножение матриц с использованием модельного кода MapReduce Distributed, когда каждая матрица генерируется в своём RECORDREADER."
      ]
    },
    {
      "cell_type": "code",
      "execution_count": 376,
      "metadata": {
        "colab": {
          "base_uri": "https://localhost:8080/"
        },
        "id": "TDM_s78Rb5eR",
        "outputId": "3d2b9fe5-69e6-44e8-ded3-cf09a6601460"
      },
      "outputs": [
        {
          "name": "stdout",
          "output_type": "stream",
          "text": [
            "480 key-value pairs were sent over a network.\n"
          ]
        }
      ],
      "source": [
        "import numpy as np\n",
        "I = 2\n",
        "J = 3\n",
        "K = 4*10\n",
        "small_mat = np.random.rand(I,J) # Маленькая матрица\n",
        "big_mat = np.random.rand(J,K) # Большая матрица\n",
        "\n",
        "maps = 2  # Число мапперов\n",
        "reducers = 1  # Число редьюсеров\n",
        "\n",
        "def INPUTFORMAT():\n",
        "  global maps\n",
        "\n",
        "  def RECORDREADER_SMALL(idx, split):\n",
        "    for i in range(split.shape[0]):\n",
        "      for j in range(split.shape[1]):\n",
        "        for k in range(big_mat.shape[1]):\n",
        "          yield ((i+idx,k), (1, split[i,j]))\n",
        "\n",
        "  split_size =  int(np.ceil(small_mat.shape[0]/maps))\n",
        "  for i in range(0, small_mat.shape[0], split_size):\n",
        "    yield RECORDREADER_SMALL(i, small_mat[i:i+split_size,:])\n",
        "\n",
        "  def RECORDREADER_BIG(idx, split):\n",
        "    for i in range(small_mat.shape[0]):\n",
        "      for j in range(split.shape[0]):\n",
        "        for k in range(split.shape[1]):\n",
        "          yield ((i,k+idx), (2, split[j,k]))\n",
        "\n",
        "  split_size =  int(np.ceil(big_mat.shape[0]/maps))\n",
        "  for k in range(0, big_mat.shape[1], split_size):\n",
        "    yield RECORDREADER_BIG(k, big_mat[:, k:k+split_size])\n",
        "\n",
        "def MAP(k1, v1):\n",
        "  yield (k1, v1)\n",
        "\n",
        "def REDUCE(key, values):\n",
        "  # Получение слагаемых из скалярного произведения элемента (i, k) новой матрицы\n",
        "  small_m = np.array([val for idx, val in values if idx == 1])\n",
        "  big_m =  np.array([val for idx, val in values if idx == 2])\n",
        "  yield (key, small_m @ big_m)\n",
        "\n",
        "partitioned_solution = MapReduceDistributed(INPUTFORMAT, MAP, REDUCE, COMBINER=None)\n",
        "partitioned_solution = [(partition_id, list(partition)) for (partition_id, partition) in partitioned_solution]"
      ]
    },
    {
      "cell_type": "code",
      "execution_count": 377,
      "metadata": {
        "colab": {
          "base_uri": "https://localhost:8080/"
        },
        "id": "Oz57-Oc4wyFd",
        "outputId": "11c30e43-ffca-4c15-af9b-1f9336699a65"
      },
      "outputs": [
        {
          "data": {
            "text/plain": [
              "True"
            ]
          },
          "execution_count": 377,
          "metadata": {},
          "output_type": "execute_result"
        }
      ],
      "source": [
        "import numpy as np\n",
        "\n",
        "def asmatrix_distributed(reduce_output):\n",
        "    \"\"\"Преобразует результаты распределенного вычисления в матричный формат.\"\"\"\n",
        "    merge_output = []\n",
        "\n",
        "    for _, values in reduce_output:\n",
        "        for value in values:\n",
        "            merge_output.append(value)\n",
        "\n",
        "    # Объединяем одинаковые ключи, суммируя значения\n",
        "    combine_output = {}\n",
        "    for key, value in merge_output:\n",
        "        if key in combine_output:\n",
        "            combine_output[key] += value\n",
        "        else:\n",
        "            combine_output[key] = value\n",
        "\n",
        "    # Конвертируем в формат кортежей\n",
        "    return asmatrix((key, val) for key, val in combine_output.items())\n",
        "\n",
        "# Проверка\n",
        "np.allclose(small_mat @ big_mat, asmatrix_distributed(partitioned_solution))"
      ]
    },
    {
      "cell_type": "markdown",
      "metadata": {
        "id": "ZuSA2P9Db6UM"
      },
      "source": [
        "Обобщите предыдущее решение на случай, когда каждая матрица генерируется несколькими RECORDREADER-ами, и проверьте его работоспособность. Будет ли работать решение, если RECORDREADER-ы будут генерировать случайное подмножество элементов матрицы?"
      ]
    },
    {
      "cell_type": "markdown",
      "metadata": {
        "id": "zLQWqJ9_3kk4"
      },
      "source": [
        "***Будет ли работать решение, если RECORDREADER-ы будут генерировать случайное подмножество элементов матрицы?***\n",
        "\n",
        "Стандартная обработка MapReduce будет работать некорректно, так как в таком случае возможны пропуски данных. Поэтому необходимо переработать алгоритм так, чтобы в конечном итоге были собраны все элементы."
      ]
    },
    {
      "cell_type": "code",
      "execution_count": 378,
      "metadata": {
        "colab": {
          "base_uri": "https://localhost:8080/"
        },
        "id": "eZPCPG_U8WNY",
        "outputId": "00382f80-6371-46ed-d9e5-6a3d8180bf92"
      },
      "outputs": [
        {
          "name": "stdout",
          "output_type": "stream",
          "text": [
            "480 key-value pairs were sent over a network.\n"
          ]
        },
        {
          "data": {
            "text/plain": [
              "True"
            ]
          },
          "execution_count": 378,
          "metadata": {},
          "output_type": "execute_result"
        }
      ],
      "source": [
        "import numpy as np\n",
        "import random\n",
        "\n",
        "I = 2\n",
        "J = 3\n",
        "K = 4*10\n",
        "small_mat = np.random.rand(I,J) # Маленькая матрица\n",
        "big_mat = np.random.rand(J,K) # Большая матрица\n",
        "\n",
        "maps = 2\n",
        "reducers = 1\n",
        "\n",
        "def randomize_indices(matrix):\n",
        "    idx = [(row, col) for row in range(matrix.shape[0]) for col in range(matrix.shape[1])]\n",
        "    random.shuffle(idx)\n",
        "    return idx\n",
        "\n",
        "def INPUTFORMAT():\n",
        "    def RECORDREADER_SMALL(submatrix, idx):\n",
        "        row, col = idx\n",
        "        for i in range(submatrix.shape[0]):\n",
        "            for j in range(submatrix.shape[1]):\n",
        "              for k in range(big_mat.shape[1]):\n",
        "                  yield ((i + row, k), (0, col, submatrix[i, j]))\n",
        "\n",
        "    small_idx = randomize_indices(small_mat)\n",
        "    for (row, col) in small_idx:\n",
        "        yield RECORDREADER_SMALL(np.array([[small_mat[row, col]]]), (row, col))\n",
        "\n",
        "    def RECORDREADER_BIG(submatrix, idx):\n",
        "        row, col = idx\n",
        "        for i in range(small_mat.shape[0]):\n",
        "            for j in range(submatrix.shape[0]):\n",
        "                for k in range(submatrix.shape[1]):\n",
        "                    yield ((i, k + col), (1, row, submatrix[j, k]))\n",
        "\n",
        "    big_idx = randomize_indices(big_mat)\n",
        "    for (row, col) in big_idx:\n",
        "        yield RECORDREADER_BIG(np.array([[big_mat[row, col]]]), (row, col))\n",
        "\n",
        "def MAP(k1, v1):\n",
        "    yield (k1, v1)\n",
        "\n",
        "def REDUCE(key, values):\n",
        "    sorted_m = sorted(values, key=lambda x: x[1])  # Сортировка по строке/столбцу\n",
        "    small_m = np.array([val for idx, col, val in sorted_m if idx == 0])\n",
        "    big_m = np.array([val for idx, row, val in sorted_m if idx == 1])\n",
        "    yield (key, small_m @ big_m)\n",
        "\n",
        "\n",
        "partitioned_solution = MapReduceDistributed(INPUTFORMAT, MAP, REDUCE, COMBINER=None)\n",
        "partitioned_solution = [(partition_id, list(partition)) for (partition_id, partition) in partitioned_solution]\n",
        "\n",
        "# Проверка\n",
        "np.allclose(small_mat @ big_mat, asmatrix_distributed(partitioned_solution))"
      ]
    }
  ],
  "metadata": {
    "colab": {
      "provenance": []
    },
    "kernelspec": {
      "display_name": "Python 3",
      "name": "python3"
    }
  },
  "nbformat": 4,
  "nbformat_minor": 0
}
